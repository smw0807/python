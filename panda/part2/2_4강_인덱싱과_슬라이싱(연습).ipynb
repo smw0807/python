{
  "cells": [
    {
      "cell_type": "markdown",
      "metadata": {
        "id": "blf1b5m_n_i5"
      },
      "source": [
        "### 2.4. 인덱싱과 슬라이싱\n",
        "\n",
        "자료형 단원이지만, 자료형을 깊이 이해하기 위해 인덱싱과 슬라이싱은 반드시 알아야 하므로 이 단원에서 다뤄 보겠습니다. 인덱싱과 슬라이싱은 데이터의 일부를 추출할 때 사용되는 매우 유용한 기법입니다. **인덱싱은 특정 위치의 단일 원소를 추출할 때 사용되고, 슬라이싱은 범위 내 여러 원소를 한 번에 추출할 때 사용됩니다.** 두 방법 모두 인덱스를 활용하여 원하는 원소를 선택합니다.\n",
        "\n",
        "<img src=https://i.postimg.cc/YqDj7BmW/image.jpg, width=600>\n",
        "\n",
        "[그림 2-4] 데이터 호출법: 인덱싱과 슬라이싱"
      ]
    },
    {
      "cell_type": "markdown",
      "metadata": {
        "id": "Z5iqZ05wn_i5"
      },
      "source": [
        "#### 2.4.1. 인덱스\n",
        "\n",
        "> 인덱스\n",
        "\n",
        "**인덱스(integer location index)는 문자열이나 배열 내에서 각 원소의 위치를 나타내는 고유한 번호입니다.** 첫 번째 원소는 0부터 시작하며, 이후 순차적으로 정수가 증가합니다. 음수 인덱스도 사용할 수 있는데, 마지막 원소는 -1부터 시작하며, 그 이전 원소에는 순서대로 음의 정수가 할당됩니다.\n",
        "\n",
        "<img src=https://i.postimg.cc/D0MWB9rL/2-5.png, width=600>\n",
        "\n",
        "[그림 2-5] 인덱스"
      ]
    },
    {
      "cell_type": "markdown",
      "metadata": {
        "id": "wOXmgW5Cn_i6"
      },
      "source": [
        "#### 2.4.2. 인덱싱\n",
        "\n",
        "> 인덱싱\n",
        "\n",
        "**인덱싱은 특정 위치의 단일 원소를 추출하는 기법**입니다. 대괄호를 사용하여 인덱스를 입력하면 해당 위치의 원소가 반환됩니다. 문자열을 예로 들어 설명하겠습니다.\n",
        "\n",
        "<img src=https://i.postimg.cc/DwVH85Hw/2-6.jpg, width=600>\n",
        "\n",
        "[그림 2-6] 인덱싱\n",
        "\n",
        "첫 번째 문자는 인덱스 0을 가지며, 이후 순차적으로 1, 2, 3 순서로 인덱스가 할당됩니다. 문자열에 대괄호를 적용하고 대괄호 안에 특정 위치의 인덱스를 입력하면 해당 위치의 문자가 반환됩니다. 예를 들어 변수 `a`가 '254781'이라면, `a[3]`은 '7'을 반환합니다.또한 음수 인덱스를 사용하면 문자열의 끝에서부터 문자를 참조할 수 있어 마지막에 가까운 원소를 선택할 때 편리합니다.\n"
      ]
    },
    {
      "cell_type": "code",
      "execution_count": 1,
      "metadata": {
        "id": "c0jiMgp4n_i6"
      },
      "outputs": [
        {
          "name": "stdout",
          "output_type": "stream",
          "text": [
            "4\n",
            "1\n"
          ]
        }
      ],
      "source": [
        "# 코드 2-20. 인덱싱\n",
        "a = '254781'\n",
        "\n",
        "# 변수 a에서 세 번째 글자 추출\n",
        "print(a[2])\n",
        "\n",
        "# 변수 a에서 마지막 글자 추출\n",
        "print(a[-1])"
      ]
    },
    {
      "cell_type": "markdown",
      "metadata": {
        "id": "etKWsSYhn_i7"
      },
      "source": [
        "#### 2.4.3. 슬라이싱\n",
        "\n",
        "> 슬라이싱\n",
        "\n",
        "**슬라이싱은 범위 내의 여러 원소를 한 번에 추출하는 기법**입니다. 슬라이싱 구문은 `a[start:end:step]`의 형식으로 작성되며, step이 생략되어 `a[start:end]` 형식으로 사용할 수 있습니다. 지정된 범위에서 시작 인덱스는 포함되지만, 마지막 인덱스는 포함되지 않습니다. 예를 들어 변수 `a`가 '254781'이라면, `a[1:3]`은 인덱스 1부터 3 이전까지의 문자를 추출하므로 '54'가 반환됩니다.\n",
        "\n",
        "<img src=https://i.postimg.cc/4yNLkhjN/image.png, width=600>\n",
        "\n",
        "[그림 2-7] 슬라이싱\n",
        "\n",
        "<br>\n",
        "\n",
        "슬라이싱의 시작 또는 끝 지점을 생략할 수도 있습니다. `a[:3]`는 문자열의 처음부터 인덱스 3 이전까지 가져오며, `a[4:]`는 인덱스 4부터 마지막까지 가져옵니다. 문자열 전체를 슬라이싱하고자 할 때는 `a[:]`를 사용하면 문자열을 그대로 반환합니다.\n",
        "\n",
        "<br>\n",
        "\n",
        "슬라이싱에서는 양수 인덱스와 음수 인덱스를 혼용할 수도 있습니다. 예를 들어, `a[2:-1]`과 같이 사용하면 인덱스 2부터 -1 이전까지의 원소를 선택하므로 '478'이 반환됩니다. 인덱스 2부터 -1까지의 슬라이싱 개념이 직관적으로 받아들이기 어려울 수 있지만, 음수 인덱스도 위치만 나타낸다고 생각하면 보다 쉽게 이해할 수 있습니다. 양수와 음수 인덱스를 조합하여 문자열의 특정 부분을 편리하게 선택할 수 있습니다.\n",
        "\n"
      ]
    },
    {
      "cell_type": "code",
      "execution_count": 3,
      "metadata": {
        "id": "sF-PUavSn_i7"
      },
      "outputs": [
        {
          "name": "stdout",
          "output_type": "stream",
          "text": [
            "54\n",
            "478\n"
          ]
        }
      ],
      "source": [
        "# 코드 2-21. 슬라이싱(1)\n",
        "a = '254781'\n",
        "\n",
        "# 두 번째부터 세 번째까지의 글자 추출 (인덱스 1~2)\n",
        "print(a[1:3])\n",
        "\n",
        "\n",
        "# 세 번째부터 다섯 번째까지의 글자 추출 (인덱스 2~4)\n",
        "print(a[2:5])\n"
      ]
    },
    {
      "cell_type": "code",
      "execution_count": 7,
      "metadata": {
        "id": "Yknxgqqjn_i7"
      },
      "outputs": [
        {
          "name": "stdout",
          "output_type": "stream",
          "text": [
            "254\n",
            "81\n",
            "254781\n",
            "478\n"
          ]
        }
      ],
      "source": [
        "# 코드 2-22. 슬라이싱(2)\n",
        "a = '254781'\n",
        "# 처음부터 세 번째까지의 글자 추출 (인덱스 처음~2)\n",
        "print(a[:3])\n",
        "\n",
        "# 다섯 번째부터 마지막까지의 글자 추출 (인덱스 4~끝)\n",
        "print(a[4:])\n",
        "\n",
        "# 전체 글자 추출 (전체 슬라이싱)\n",
        "print(a[:])\n",
        "\n",
        "# start는 양수 인덱스, end는 음수 인덱스를 활용해 추출 (인덱스 2~4)\n",
        "print(a[2:-1])\n"
      ]
    },
    {
      "cell_type": "markdown",
      "metadata": {
        "id": "yV7PUSWLn_i8"
      },
      "source": [
        "> step을 활용한 슬라이싱\n",
        "\n",
        "슬라이싱할 때 step을 지정하면 특정 간격을 두고 요소를 선택할 수 있습니다. 슬라이싱 구문은 `a[start:end:step]` 형식으로 작성되며, step 값은 선택된 요소 간의 간격을 의미합니다. 예를 들어, `a[2:5]`는 '478'을 반환하지만, `a[2:5:2]`는 주어진 범위 내에서 2칸 간격으로 원소를 선택하므로 '48'만 반환됩니다.\n",
        "\n",
        "<img src=https://i.postimg.cc/BQQykWCK/2-8-step.jpg, width=600>\n",
        "\n",
        "[그림 2-8] step을 활용한 슬라이싱\n",
        "\n",
        "<br>\n",
        "\n",
        "step 값에 음수를 입력하면 문자열을 역순으로 반환할 수 있습니다. 예를 들어 step에 -1을 설정하여 `a[::-1]` 형태로 사용하면 마지막 원소부터 처음 원소까지 역순으로 반환됩니다."
      ]
    },
    {
      "cell_type": "code",
      "execution_count": 8,
      "metadata": {
        "id": "p9YnscBin_i8"
      },
      "outputs": [
        {
          "name": "stdout",
          "output_type": "stream",
          "text": [
            "48\n",
            "27\n"
          ]
        }
      ],
      "source": [
        "# 코드 2-23. step을 활용한 슬라이싱\n",
        "a = '254781'\n",
        "\n",
        "# 세 번째부터 다섯 번째까지, 두 칸씩 건너뛰며 추출 (인덱스 2~4, step 2)\n",
        "print(a[2:5:2])\n",
        "\n",
        "# 처음부터 끝까지, 세 칸씩 건너뛰며 추출 (step 3)\n",
        "print(a[::3])"
      ]
    },
    {
      "cell_type": "code",
      "execution_count": 9,
      "metadata": {
        "id": "4GNtTjswn_i8"
      },
      "outputs": [
        {
          "name": "stdout",
          "output_type": "stream",
          "text": [
            "187452\n"
          ]
        }
      ],
      "source": [
        "# 코드 2-24. 문자열을 역순으로 변환\n",
        "a = '254781'\n",
        "\n",
        "# 변수 a를 역순으로 추출 (step -1)\n",
        "print(a[::-1])"
      ]
    },
    {
      "cell_type": "markdown",
      "metadata": {
        "id": "uFVbpDR1oF3i"
      },
      "source": [
        "**😀 파이썬의 엑셀, 판다스 라이브러리 출판 안내**\n",
        "\n",
        "**서울대** 이성주 교수님과 **카이스트** 차유진 교수님이 추천한 데이터 분석 책 **『파이썬의 엑셀, 판다스 라이브러리』**가 출판되었습니다. 이 책은 입문자를 위해 데이터 분석 과정에서 가장 중요한 판다스 라이브러리를 쉽게 풀어쓴 **입문서**이며, 동시에 여러분의 데이터 처리 역량을 강화하는 데 큰 도움이 되는 **기본서**입니다.\n",
        "\n",
        "<img src=https://i.postimg.cc/MKg8TW75/01.jpg, width=600>\n",
        "\n",
        "🎈 [파이썬의 엑셀, 판다스 라이브러리 목차 확인](https://kimpanda.tistory.com/274)\n",
        "\n",
        "🎈 [교보문고 구매 페이지](https://product.kyobobook.co.kr/detail/S000214350781)"
      ]
    }
  ],
  "metadata": {
    "colab": {
      "provenance": []
    },
    "kernelspec": {
      "display_name": "Python 3",
      "name": "python3"
    },
    "language_info": {
      "codemirror_mode": {
        "name": "ipython",
        "version": 3
      },
      "file_extension": ".py",
      "mimetype": "text/x-python",
      "name": "python",
      "nbconvert_exporter": "python",
      "pygments_lexer": "ipython3",
      "version": "3.9.6"
    }
  },
  "nbformat": 4,
  "nbformat_minor": 0
}
