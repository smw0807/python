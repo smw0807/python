{
  "cells": [
    {
      "cell_type": "markdown",
      "metadata": {
        "id": "3tLR8WUlqeJu"
      },
      "source": [
        "### 2.6. 리스트\n",
        "\n",
        "파이썬에서는 정수와 실수 같은 단일 값을 나타내는 자료형을 **스칼라 자료형**이라고 하며, 리스트와 튜플처럼 여러 데이터를 담을 수 있는 자료형을 **컬렉션 자료형**이라고 합니다. **리스트는 가장 대표적이고 자주 사용되는 컬렉션 자료형**이고, 여러 값을 효율적으로 다루는 데 매우 유용합니다.\n",
        "\n",
        "\n",
        "리스트는 대괄호([ ]) 안에 데이터를 콤마(,)로 구분하여 생성합니다.\n",
        "\n",
        "```python\n",
        "my_list = [1, 2, 3, 4]  # 리스트 생성\n",
        "```"
      ]
    },
    {
      "cell_type": "code",
      "execution_count": 1,
      "metadata": {
        "id": "dtoNpDv3a-0c"
      },
      "outputs": [
        {
          "name": "stdout",
          "output_type": "stream",
          "text": [
            "[1, 2, 3]\n",
            "[]\n",
            "<class 'list'>\n"
          ]
        }
      ],
      "source": [
        "# 코드 2-29. 리스트 생성\n",
        "\n",
        "# 정수 1, 2, 3으로 구성된 리스트를 생성하고, 변수 a에 할당 후 출력\n",
        "a = [1, 2, 3]\n",
        "print(a)\n",
        "\n",
        "# 빈 리스트 생성하고, 변수 b에 할당 후 출력\n",
        "b = []\n",
        "print(b)\n",
        "\n",
        "\n",
        "# 변수 a의 자료형 확인\n",
        "print(type(a))"
      ]
    },
    {
      "cell_type": "markdown",
      "metadata": {
        "id": "koppdg_GcdZl"
      },
      "source": [
        "#### 2.6.1. 리스트로 변환하기\n",
        "\n",
        "> 리스트로 변환하기\n",
        "\n",
        "`list` 함수는 문자열이나 배열을 리스트로 변환할 수 있습니다."
      ]
    },
    {
      "cell_type": "code",
      "execution_count": 2,
      "metadata": {
        "id": "QDJ1Kk4Kcc4a"
      },
      "outputs": [
        {
          "name": "stdout",
          "output_type": "stream",
          "text": [
            "['a', 'b', 'c', 'd']\n",
            "range(0, 4)\n"
          ]
        }
      ],
      "source": [
        "# 코드 2-30. 리스트로 변환\n",
        "\n",
        "# 문자열 'abcd'를 리스트로 변환하고 출력\n",
        "print(list('abcd'))\n",
        "\n",
        "# range 함수로 [0, 1, 2, 3]의 리스트 생성\n",
        "print(range(4))"
      ]
    },
    {
      "cell_type": "markdown",
      "metadata": {
        "id": "BEtM8gfWm8ot"
      },
      "source": [
        "> range 함수\n",
        "\n",
        "`range` 함수는 연속된 정수의 배열을 생성하는 데 사용되며, 특정 범위의 정수를 만들거나 반복문에서 활용됩니다.\n",
        "\n",
        "- 구문\n",
        "\n",
        " ```python\n",
        " range(start, stop, step)\n",
        "```\n",
        " - start (선택): 범위의 좌측 경계이며 기본값은 0입니다.\n",
        " - stop (필수): 범위의 우측 경계이며 이 값은 포함되지 않습니다.\n",
        " - step (선택): 정수 간의 간격이며 기본값은 1입니다.\n",
        "\n",
        "- 특징\n",
        "\n",
        " `range`는 실제로 리스트를 생성하지 않고, 필요할 때 값을 생성하기 때문에 메모리를 절약합니다.\n",
        "\n",
        " ```python\n",
        "range(1, 4)  # 출력: [1, 2, 3]이 아니라 range(1, 4)를 출력한다.\n",
        "```\n",
        "\n",
        " 모든 값을 생성하고 싶다면 `list` 함수를 통해 리스트로 변환합니다.\n",
        "\n",
        " ```python\n",
        "list(range(1, 4))  # 출력: [1, 2, 3]\n",
        "```\n",
        "\n"
      ]
    },
    {
      "cell_type": "markdown",
      "metadata": {
        "id": "fjoJ8svWm-EH"
      },
      "source": [
        "#### 2.6.2. 리스트의 연산\n",
        "\n",
        "> 리스트 연결\n",
        "\n",
        "파이썬에서는 덧셈 연산자(`+`)를 사용하여 리스트를 쉽게 연결할 수 있습니다. 예를 들어, 리스트 `[1, 2]`과 `[3, 4]`를 + 연산으로 연결하면 `[1, 2, 3, 4]`라는 결과를 얻을 수 있습니다."
      ]
    },
    {
      "cell_type": "code",
      "execution_count": 3,
      "metadata": {
        "id": "mIBi2ZpkqML5"
      },
      "outputs": [
        {
          "name": "stdout",
          "output_type": "stream",
          "text": [
            "[1, 2, 3, 4]\n"
          ]
        }
      ],
      "source": [
        "# 코드 2-31. 리스트 연결\n",
        "\n",
        "# 리스트 [1, 2]와 리스트 [3, 4]를 연결\n",
        "print([1, 2] + [3, 4])"
      ]
    },
    {
      "cell_type": "markdown",
      "metadata": {
        "id": "Q-joyVbfqMl3"
      },
      "source": [
        "단, 리스트끼리만 연결이 가능하다는 점과 파이썬에서는 덧셈 연산자(+)로 리스트를 연결할 수 있지만, 뺄셈 연산자(-)를 사용해 리스트에서 일부 원소를 제거할 수는 없다는 점에 주의하세요."
      ]
    },
    {
      "cell_type": "markdown",
      "metadata": {
        "id": "V7SgqGCYqZIY"
      },
      "source": [
        "> 리스트 반복\n",
        "\n",
        "곱셈 연산자(`*`)를 사용해 리스트를 정수와 곱하면, 해당 리스트를 반복할 수 있습니다."
      ]
    },
    {
      "cell_type": "code",
      "execution_count": 4,
      "metadata": {
        "id": "QqRgXYXAqYSQ"
      },
      "outputs": [
        {
          "name": "stdout",
          "output_type": "stream",
          "text": [
            "[1, 2, 1, 2, 1, 2]\n"
          ]
        }
      ],
      "source": [
        "# 코드 2-32. 리스트 반복\n",
        "\n",
        "# 리스트 [1, 2]를 3번 반복한 리스트 생성\n",
        "print([1, 2] * 3)"
      ]
    },
    {
      "cell_type": "markdown",
      "metadata": {
        "id": "dMUnYTUhnB0o"
      },
      "source": [
        "#### 2.6.3. 리스트의 인덱싱과 슬라이싱\n",
        "\n",
        "> 인덱싱과 슬라이싱\n",
        "\n",
        "문자열과 마찬가지로 **리스트도 인덱싱과 슬라이싱을 사용하여 특정 원소를 추출할 수 있습니다.** 이 기법은 리스트의 일부를 손쉽게 추출할 수 있어 매우 유용합니다."
      ]
    },
    {
      "cell_type": "code",
      "execution_count": 8,
      "metadata": {
        "id": "F1V7v6uD7yQN"
      },
      "outputs": [
        {
          "name": "stdout",
          "output_type": "stream",
          "text": [
            "5\n",
            "[2, 5, 4]\n",
            "[1, 8, 7, 4, 5, 2]\n"
          ]
        }
      ],
      "source": [
        "# 코드 2-33. 리스트의 인덱싱과 슬라이싱\n",
        "c = [2, 5, 4, 7, 8, 1]\n",
        "\n",
        "# 리스트 c의 두 번째 원소 반환\n",
        "print(c[1])\n",
        "\n",
        "# 리스트 c의 첫 세 원소 반환\n",
        "print(c[:3])\n",
        "\n",
        "# 리스트 c를 역순으로 변환\n",
        "print(c[::-1])\n"
      ]
    },
    {
      "cell_type": "markdown",
      "metadata": {
        "id": "9I4CCd5U7yn8"
      },
      "source": [
        "\n",
        "> 리스트의 원소 변경하기\n",
        "\n",
        "리스트는 인덱싱과 슬라이싱을 통해 특정 원소를 선택하고 값을 할당하여 원소를 변경할 수 있습니다."
      ]
    },
    {
      "cell_type": "code",
      "execution_count": 13,
      "metadata": {
        "id": "6hm9XGuz-2Ug"
      },
      "outputs": [
        {
          "name": "stdout",
          "output_type": "stream",
          "text": [
            "[5, 2, 3, 4]\n",
            "[5, 2, 6, 7]\n"
          ]
        }
      ],
      "source": [
        "# 코드 2-34. 리스트의 원소 변경하기\n",
        "d = [1, 2, 3, 4]\n",
        "\n",
        "# 인덱싱을 사용해 리스트 d의 첫 번째 원소를 5로 변경\n",
        "d[0] = 5\n",
        "print(d)\n",
        "\n",
        "\n",
        "# 슬라이싱을 사용해 리스트 d의 세 번째와 네 번째 원소를 6과 7로 변경\n",
        "d[2:5] = [6, 7]\n",
        "print(d)"
      ]
    },
    {
      "cell_type": "markdown",
      "metadata": {
        "id": "7rDSvU8IBaY8"
      },
      "source": [
        "이는 리스트가 데이터를 자유롭게 변경할 수 있는 **가변형(mutable) 자료형**이기 때문입니다. 가변성과 불변성의 개념은 이후 단원에서 더 자세히 다룰 예정입니다. 지금은 인덱싱과 슬라이싱을 통해 특정 원소를 선택하고 값을 할당하여 원소를 변경할 수 있으며, 그 이유는 가변성이 있는 자료형이기 때문이라고 기억하시면 됩니다.\n",
        "\n",
        "```python\n",
        "# 문자열의 원소는 인덱싱으로 변경할 수 없다.\n",
        "txt = 'abc'\n",
        "txt[0] = 'd'  # 에러 발생: 문자열은 불변성(immutable)을 가진 객체\n",
        "```"
      ]
    },
    {
      "cell_type": "markdown",
      "metadata": {
        "id": "wpUn8_Nrnij8"
      },
      "source": [
        "#### 2.6.4. 리스트를 다루는 함수\n",
        "\n",
        "> 리스트 원소의 개수 확인하기\n",
        "\n",
        "`len` 함수는 리스트에 포함된 원소의 개수를 반환합니다."
      ]
    },
    {
      "cell_type": "code",
      "execution_count": 14,
      "metadata": {
        "id": "s03hCL7XDI6u"
      },
      "outputs": [
        {
          "name": "stdout",
          "output_type": "stream",
          "text": [
            "3\n"
          ]
        }
      ],
      "source": [
        "# 코드 2-35. 리스트 원소의 개수 확인하기\n",
        "e = ['a', 'b', 'c']\n",
        "\n",
        "# 리스트 e의 원소 개수 확인\n",
        "print(len(e))"
      ]
    },
    {
      "cell_type": "markdown",
      "metadata": {
        "id": "ZDOmzTncDJQ5"
      },
      "source": [
        "\n",
        "> 리스트에 원소 추가하기\n",
        "\n",
        "`append` 함수는 리스트의 끝에 원소를 추가합니다. 이는 메서드이므로 리스트 객체 뒤에 호출하며, 호출 즉시 리스트 객체를 직접 변경합니다."
      ]
    },
    {
      "cell_type": "code",
      "execution_count": 15,
      "metadata": {
        "id": "k4kfzOG0DKih"
      },
      "outputs": [
        {
          "name": "stdout",
          "output_type": "stream",
          "text": [
            "['a', 'b', 'c', 'd']\n"
          ]
        }
      ],
      "source": [
        "# 코드 2-36. 리스트에 원소 추가하기\n",
        "e = ['a', 'b', 'c']\n",
        "\n",
        "# 리스트 e에 'd' 추가\n",
        "e.append('d')\n",
        "\n",
        "# 기존 리스트를 변경하기 때문에 변수 e를 출력\n",
        "print(e)"
      ]
    },
    {
      "cell_type": "markdown",
      "metadata": {
        "id": "SMDDYbaKDKx1"
      },
      "source": [
        "> 리스트의 문자열 병합하기\n",
        "\n",
        "문자열의 `join` 메서드는 배열의 모든 문자열을 하나의 문자열로 병합합니다. `join` 메서드는 구분자로 사용할 문자열이 주체가 되어 호출되며, 배열을 인수로 받아 동작합니다.\n",
        "\n",
        "```python\n",
        "sep.join(iterable)\n",
        "```\n",
        "- sep: 구분자로 작용할 문자열(separator).\n",
        "\n",
        "- iterable: 리스트, 튜플, 문자열 등 반복 가능한 객체.\n",
        "\n",
        "\n",
        "\n",
        "\n",
        "\n"
      ]
    },
    {
      "cell_type": "code",
      "execution_count": 17,
      "metadata": {
        "id": "BXxZqR28DLXE"
      },
      "outputs": [
        {
          "name": "stdout",
          "output_type": "stream",
          "text": [
            "a/bc/def\n"
          ]
        }
      ],
      "source": [
        "# 코드 2-37. 리스트의 문자열 병합하기\n",
        "f = ['a', 'bc', 'def']\n",
        "\n",
        "# 리스트 f의 문자열을 구분자 '/'로 연결하여 병합(예: 'a/bc/def')\n",
        "print('/'.join(f))"
      ]
    },
    {
      "cell_type": "markdown",
      "metadata": {
        "id": "d4Vx75u9GRi9"
      },
      "source": [
        "#### 심화\n",
        "\n",
        "**👌 참고 사항**\n",
        "\n",
        "우리의 목표는 데이터 분석 입문을 위한 기본적인 파이썬 내용을 빠르고 효율적으로 학습하는 것이므로, **심화 내용은 지금 학습하지 않으셔도 괜찮습니다.** 이 내용은 더 깊이 학습하고자 하는 분들을 위해 참고용으로 제공된 것이며, 데이터 분석에 입문한 이후 학습하셔도 무방합니다.\n",
        "\n",
        "> 다양한 리스트 함수\n",
        "\n",
        "- `append(x)`: 리스트 끝에 원소를 추가\n",
        "\n",
        "  ```python\n",
        "  a = [1, 2, 3]\n",
        "  a.append(4)\n",
        "  # 기존 리스트를 변경하기 때문에 변수 a를 출력\n",
        "  a  # 출력: [1, 2, 3, 4]\n",
        "```\n",
        "\n",
        "- `extend(iterable)`: 다른 배열(iterable)의 모든 원소를 추가\n",
        "\n",
        "  ```python\n",
        "  a = [1, 2]\n",
        "  a.extend([3, 4])  \n",
        "  # 기존 리스트를 변경하기 때문에 변수 a를 출력\n",
        "  a  # 출력: [1, 2, 3, 4]\n",
        "```\n",
        "\n",
        "- `insert(index, x)`: 지정된 위치에 원소를 삽입\n",
        "\n",
        "  ```python\n",
        "  a = [1, 2, 3]\n",
        "  a.insert(1, 99)\n",
        "  # 기존 리스트를 변경하기 때문에 변수 a를 출력\n",
        "  a  # 출력: [1, 99, 2, 3]\n",
        "```\n",
        "\n",
        "- `remove(x)`: 리스트에서 첫 번째로 나타나는 x를 제거\n",
        "\n",
        "  ```python\n",
        "  a = [1, 2, 3, 2]\n",
        "  a.remove(2)\n",
        "  # 기존 리스트를 변경하기 때문에 변수 a를 출력  \n",
        "  a  # 출력: [1, 3, 2]\n",
        "```\n",
        "\n",
        "- `pop(index=-1)`: 지정된 위치의 원소를 제거하고 반환\n",
        "\n",
        "  ```python\n",
        "  a = [1, 2, 3]\n",
        "  print(a.pop())  # 출력: 3\n",
        "  a  # 출력: [1, 2]\n",
        "```\n",
        "\n",
        "- `index(x, start=0, end=len(list))`: 특정 값의 첫 번째 인덱스를 반환\n",
        "\n",
        "  ```python\n",
        "  a = [1, 2, 3, 2]\n",
        "  a.index(2)  # 출력: 1\n",
        "```\n",
        "\n",
        "- `count(x)`: 특정 값의 개수를 반환\n",
        "\n",
        "  ```python\n",
        "  a = [1, 4, 3, 4]\n",
        "  a.count(4)  # 출력: 2\n",
        "```\n",
        "\n",
        "- `sort(key=None, reverse=False)`: 기존 리스트를 정렬\n",
        "\n",
        "  ```python\n",
        "  a = [3, 1, 2]\n",
        "  a.sort()\n",
        "  # 기존 리스트를 변경하기 때문에 변수 a를 출력\n",
        "  a  # 출력: [1, 2, 3]\n",
        "```\n",
        "\n",
        "- `sorted(iterable, key=None, reverse=False)`: 정렬된 새 리스트를 반환\n",
        "\n",
        "  ```python\n",
        " a = [3, 1, 2]\n",
        " sorted(a)  # 출력: [1, 2, 3]\n",
        "```\n",
        "\n",
        "\n",
        "\n",
        "\n",
        "- `reverse()`: 리스트를 역순으로 변환\n",
        "\n",
        "  ```python\n",
        "  a = [1, 2, 3]\n",
        "  a.reverse()\n",
        "  # 기존 리스트를 변경하기 때문에 변수 a를 출력\n",
        "  a  # 출력: [3, 2, 1]\n",
        "```\n",
        "\n",
        "- `sum(list)`: 원소들의 합계를 반환 (수치형 데이터에서 사용)\n",
        "\n",
        "  ```python\n",
        "  a = [1, 2, 3]\n",
        "  sum(a)  # 출력: 6\n",
        "```\n",
        "\n",
        "- `min(list)`: 최솟값을 반환\n",
        "\n",
        "  ```python\n",
        "  a = [1, 2, 3]\n",
        "  min(a)  # 출력: 1\n",
        "```\n",
        "\n",
        "- `max(list)`: 최댓값을 반환\n",
        "\n",
        "  ```python\n",
        "  a = [1, 2, 3]\n",
        "  max(a)  # 출력: 3\n",
        "```\n",
        "\n",
        "- `any(list)`: 하나라도 참이면 `True`, 그 외에는 `False`를 반환\n",
        "\n",
        "  ```python\n",
        " a = [True, True, False]\n",
        " any(a)  # 출력: True\n",
        "```\n",
        "\n",
        "- `all(list)`: 모두 참이면 `True`, 그 외에는 `False`를 반환\n",
        "\n",
        "  ```python\n",
        " a = [True, True, False]\n",
        " any(a)  # 출력: False\n",
        "```\n",
        "\n",
        "- `map(function, iterable)`: 리스트의 원소를 함수로 매핑\n",
        "\n",
        "  ```python\n",
        "  a = [1, 2, 3]\n",
        "  list(map(str, a))  # 출력: ['1', '2', '3']\n",
        "\n",
        "- `enumerate(iterable, start=0)`: 원소와 함께 인덱스를 반환\n",
        "\n",
        "  ```python\n",
        "  a = ['a', 'b', 'c']\n",
        "  list(enumerate(a))  # 출력: [(0, 'a'), (1, 'b'), (2, 'c')]\n",
        "```\n",
        "\n",
        "\n"
      ]
    },
    {
      "cell_type": "markdown",
      "metadata": {
        "id": "BbUxmhL359Xm"
      },
      "source": [
        "**😀 파이썬의 엑셀, 판다스 라이브러리 출판 안내**\n",
        "\n",
        "**서울대** 이성주 교수님과 **카이스트** 차유진 교수님이 추천한 데이터 분석 책 **『파이썬의 엑셀, 판다스 라이브러리』**가 출판되었습니다. 이 책은 입문자를 위해 데이터 분석 과정에서 가장 중요한 판다스 라이브러리를 쉽게 풀어쓴 **입문서**이며, 동시에 여러분의 데이터 처리 역량을 강화하는 데 큰 도움이 되는 **기본서**입니다.\n",
        "\n",
        "<img src=https://i.postimg.cc/MKg8TW75/01.jpg, width=600>\n",
        "\n",
        "🎈 [파이썬의 엑셀, 판다스 라이브러리 목차 확인](https://kimpanda.tistory.com/274)\n",
        "\n",
        "🎈 [교보문고 구매 페이지](https://product.kyobobook.co.kr/detail/S000214350781)"
      ]
    }
  ],
  "metadata": {
    "colab": {
      "provenance": []
    },
    "kernelspec": {
      "display_name": "Python 3",
      "name": "python3"
    },
    "language_info": {
      "codemirror_mode": {
        "name": "ipython",
        "version": 3
      },
      "file_extension": ".py",
      "mimetype": "text/x-python",
      "name": "python",
      "nbconvert_exporter": "python",
      "pygments_lexer": "ipython3",
      "version": "3.9.6"
    }
  },
  "nbformat": 4,
  "nbformat_minor": 0
}
