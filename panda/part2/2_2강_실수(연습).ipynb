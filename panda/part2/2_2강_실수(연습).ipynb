{
  "cells": [
    {
      "cell_type": "markdown",
      "metadata": {
        "id": "GltlQlM_HtX4"
      },
      "source": [
        "### 2.2. 실수\n",
        "\n",
        "실수는 소수점을 포함하는 숫자를 의미합니다. 파이썬에서는 이러한 실수를 주로 **부동 소수점 자료형(float)**으로 처리합니다.\n"
      ]
    },
    {
      "cell_type": "code",
      "execution_count": 2,
      "metadata": {
        "id": "_qiUBP8AHtX5"
      },
      "outputs": [
        {
          "name": "stdout",
          "output_type": "stream",
          "text": [
            "1.5\n"
          ]
        },
        {
          "data": {
            "text/plain": [
              "float"
            ]
          },
          "execution_count": 2,
          "metadata": {},
          "output_type": "execute_result"
        }
      ],
      "source": [
        "# 코드 2-4. 실수의 생성\n",
        "\n",
        "# 변수 a에 1.5를 할당하고 변수 a 출력\n",
        "a = 1.5\n",
        "print(a)\n",
        "\n",
        "\n",
        "# 변수 a의 자료형 출력\n",
        "type(a)"
      ]
    },
    {
      "cell_type": "markdown",
      "metadata": {
        "id": "B9kWCTjrHtX6"
      },
      "source": [
        "실수는 수치형 자료형이기 때문에 산술 연산과 비교 연산이 가능합니다."
      ]
    },
    {
      "cell_type": "markdown",
      "metadata": {
        "id": "9VMC61IUHtX6"
      },
      "source": [
        "#### 2.2.1. 부동 소수점\n",
        "\n",
        "> 부동 소수점이란?\n",
        "\n",
        "- 실수를 유효숫자와 지수로 분리하여 표현하는 방식\n",
        "- 소수점을 이동해 정수 부분을 한 자릿수로 맞추고, 지수를 사용해 숫자의 크기를 표현\n",
        "\n",
        "<img src=https://i.postimg.cc/GtfMNckH/image.jpg, width=600>\n",
        "\n",
        "[그림 2-1] 부동 소수점\n",
        "\n",
        "다만, 부동 소수점은 실수를 메모리에 저장하는 방식일 뿐이며, 출력 시에는 일반적인 실수 형태로 표시됩니다. 따라서 실수형 자료를 부동 소수점 자료형과 동일시해도 문제가 없습니다.\n",
        "\n",
        "<br>\n",
        "\n",
        "> 파이썬의 부동 소수점\n",
        "\n",
        "- 파이썬에서 실수는 2진법 기반의 64비트 부동 소수점 형식으로 저장됩니다.\n",
        "\n",
        "- 1비트는 부호, 11비트는 지수, 52비트는 가수에 사용됩니다.\n",
        "\n",
        "\n",
        "\n",
        "<img src=https://i.postimg.cc/ZqSz5LXV/image.png, width=600>\n",
        "\n",
        "[그림 2-2] 파이썬의 부동 소수점\n",
        "\n",
        "\n",
        "<br>\n",
        "\n",
        "> 부동 소수점의 한계\n",
        "\n",
        "부동 소수점은 표현할 수 있는 수의 범위가 넓다는 장점이 있지만, 10진법 실수를 2진법으로 근사하여 제한된 비트로 계산하기 때문에 매우 엄밀하지는 않습니다. 따라서 부동 소수점 연산에서는 때때로 오차가 발생할 수 있습니다.\n",
        "\n",
        "\n",
        "\n"
      ]
    },
    {
      "cell_type": "code",
      "execution_count": 3,
      "metadata": {
        "id": "RpPy4iftHtX6"
      },
      "outputs": [
        {
          "name": "stdout",
          "output_type": "stream",
          "text": [
            "0.30000000000000004\n"
          ]
        }
      ],
      "source": [
        "# 코드 2-5. 부동 소수점 자료형의 한계\n",
        "\n",
        "# 0.1 + 0.2의 결과 출력 (부동 소수점의 특성으로 근삿값이 출력됨)\n",
        "print(0.1 + 0.2)"
      ]
    },
    {
      "cell_type": "markdown",
      "metadata": {
        "id": "wwq3Ofo_HtX7"
      },
      "source": [
        "대부분의 경우 엄밀한 계산이 필요하지 않으므로 문제가 되지 않지만, 매우 엄밀한 계산이 필요한 상황에서는 **decimal** 등의 모듈을 사용하여 문제를 해결합니다."
      ]
    },
    {
      "cell_type": "markdown",
      "metadata": {
        "id": "au3MUbE6HtX7"
      },
      "source": [
        "#### 2.2.2. 실수로 변환하기\n",
        "\n",
        "> float 함수\n",
        "\n",
        "`float` 함수는 주어진 값을 실수로 변환하는 역할을 합니다. 수치형으로 표현된 문자열이나 정수를 실수로 변환하고 싶을 때 `float` 함수를 사용합니다."
      ]
    },
    {
      "cell_type": "code",
      "execution_count": 4,
      "metadata": {
        "id": "zbkTjMHqHtX7"
      },
      "outputs": [
        {
          "name": "stdout",
          "output_type": "stream",
          "text": [
            "1.0\n",
            "10.0\n"
          ]
        }
      ],
      "source": [
        "# 코드 2-6. 실수로 변환하기\n",
        "b = 1\n",
        "\n",
        "# 정수인 변수 b를 실수로 변환하고 출력\n",
        "print(float(b))\n",
        "\n",
        "c = '10'\n",
        "\n",
        "# 문자열인 변수 c를 실수로 변환하고 출력\n",
        "print(float(c))"
      ]
    },
    {
      "cell_type": "markdown",
      "metadata": {
        "id": "g8yAtMCqMKfM"
      },
      "source": [
        "'2.1'과 같은 실수를 나타내는 문자열을 정수로 변환하려면, 먼저 `float` 함수를 사용해 실수로 변환한 뒤 `int` 함수를 통해 정수로 변환합니다."
      ]
    },
    {
      "cell_type": "code",
      "execution_count": 7,
      "metadata": {
        "id": "Yg4e5IcHHtX7"
      },
      "outputs": [
        {
          "name": "stdout",
          "output_type": "stream",
          "text": [
            "2\n"
          ]
        }
      ],
      "source": [
        "# 코드 2-7. 실수 형태의 문자열을 정수로 변환하기\n",
        "d = '2.1'\n",
        "\n",
        "# 변수 d를 정수인 2로 변환\n",
        "#print(int(d)) # 2.1이 정수가 아니기 때문에 에러가 발생함\n",
        "print(int(float(d)))\n"
      ]
    },
    {
      "cell_type": "markdown",
      "metadata": {
        "id": "rWtZBw47HtX8"
      },
      "source": [
        "> ChatGPT의 캔버스 기능 사용하기\n",
        "\n",
        "**ChatGPT의 캔버스 기능**\n",
        "\n",
        "별도의 코딩 창을 제공하며, 버그 수정과 실행이 가능하고,\n",
        "개별 코드를 드래그해서 질문할 수 있습니다.\n",
        "\n",
        "<img src=https://i.postimg.cc/3rnvwPvb/Chat-GPT-2.jpg, width=600>\n",
        "\n",
        "[그림 2-3] ChatGPT의 캔버스 기능\n",
        "\n",
        "캔버스 기능의 UI는 ChatGPT 버전에 따라 달라질 수 있으며, 프롬프트를 입력해도 캔버스 기능을 사용할 수 있습니다.\n",
        "\n",
        "```\n",
        "프롬프트:\n",
        "캔버스 코딩 창을 열어주세요.\n",
        "```"
      ]
    },
    {
      "cell_type": "markdown",
      "metadata": {
        "id": "GhvazS_qIgyj"
      },
      "source": [
        "**😀 파이썬의 엑셀, 판다스 라이브러리 출판 안내**\n",
        "\n",
        "**서울대** 이성주 교수님과 **카이스트** 차유진 교수님이 추천한 데이터 분석 책 **『파이썬의 엑셀, 판다스 라이브러리』**가 출판되었습니다. 이 책은 입문자를 위해 데이터 분석 과정에서 가장 중요한 판다스 라이브러리를 쉽게 풀어쓴 **입문서**이며, 동시에 여러분의 데이터 처리 역량을 강화하는 데 큰 도움이 되는 **기본서**입니다.\n",
        "\n",
        "<img src=https://i.postimg.cc/MKg8TW75/01.jpg, width=600>\n",
        "\n",
        "🎈 [파이썬의 엑셀, 판다스 라이브러리 목차 확인](https://kimpanda.tistory.com/274)\n",
        "\n",
        "🎈 [교보문고 구매 페이지](https://product.kyobobook.co.kr/detail/S000214350781)"
      ]
    }
  ],
  "metadata": {
    "colab": {
      "provenance": []
    },
    "kernelspec": {
      "display_name": "Python 3",
      "name": "python3"
    },
    "language_info": {
      "codemirror_mode": {
        "name": "ipython",
        "version": 3
      },
      "file_extension": ".py",
      "mimetype": "text/x-python",
      "name": "python",
      "nbconvert_exporter": "python",
      "pygments_lexer": "ipython3",
      "version": "3.9.6"
    }
  },
  "nbformat": 4,
  "nbformat_minor": 0
}
