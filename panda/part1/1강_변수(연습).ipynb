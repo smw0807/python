{
  "cells": [
    {
      "cell_type": "markdown",
      "metadata": {
        "id": "WWonWnORNg21"
      },
      "source": [
        "## Chapter 1. 변수"
      ]
    },
    {
      "cell_type": "markdown",
      "metadata": {
        "id": "hpy40jZlNg22"
      },
      "source": [
        "### 1.1. 변수\n",
        "\n",
        "**변수명**은 **데이터를 참조하기 위해 붙이는 이름**이며, 변수명으로 지정되어 **메모리에 저장된 데이터를 참조하는 것을 변수**라고 합니다. 수학 시간에 배웠던 미지수를 떠올리면 쉽게 이해할 수 있습니다. 파이썬에서 변수를 사용하면 변수명을 통해 해당 데이터에 접근할 수 있습니다.\n",
        "\n",
        "변수로 지정할 수 있는 데이터의 종류는 숫자, 문자열 등 다양하며, 추후 여러분이 데이터 분석 모듈(예: 판다스 라이브러리)을 학습하면 하나의 표도 변수로 지정할 수 있어 매우 편리합니다.\n",
        "\n"
      ]
    },
    {
      "cell_type": "markdown",
      "metadata": {
        "id": "MGjWKdiwNg22"
      },
      "source": [
        "#### 1.1.1. 변수를 지정하는 방법\n",
        "\n",
        "> 변수를 지정하는 방법\n",
        "\n",
        "<img src=https://i.postimg.cc/br2yC3dq/6.jpg, width=600>\n",
        "\n",
        "[그림 1-1] 변수를 지정하는 방법\n",
        "\n",
        "\n",
        "변수를 지정하는 방법은 간단합니다. 변수명을 정하고 등호(`=`)를 사용해 데이터를 할당하면 됩니다. 파이썬은 변수를 지정할 때 자료형을 명시할 필요가 없으며, 변수에 저장된 데이터의 자료형에 따라 자동으로 처리됩니다."
      ]
    },
    {
      "cell_type": "code",
      "execution_count": 1,
      "metadata": {
        "id": "ipRQCC-1Ng23"
      },
      "outputs": [],
      "source": [
        "# 코드 1-1. 변수 x에 10을 할당하고, 변수 x를 출력\n",
        "\n"
      ]
    },
    {
      "cell_type": "markdown",
      "metadata": {
        "id": "WWvwRNH6Ng23"
      },
      "source": [
        "파이썬에서 변수 할당 시에는 등호(`=`) 앞뒤로 공백을 추가하여 가독성을 높이는 것이 좋습니다. 이는 함수 호출 시 사용하는 `매개변수=인수` 형식과 구분하기 위함입니다.\n",
        "\n",
        "```python\n",
        "x = 20  # 변수 할당이므로 등호 앞뒤로 공백을 추가\n",
        "print('Hello', 'World', sep='/')  # 함수에 매개변수=인수 입력 시 공백 없음\n",
        "```\n"
      ]
    },
    {
      "cell_type": "markdown",
      "metadata": {
        "id": "bw5NOU2INg23"
      },
      "source": [
        "#### 1.1.2. 변수를 사용하는 이유\n",
        "\n",
        "> 변수를 사용하는 이유\n",
        "\n",
        "변수는 데이터를 저장하고 관리하기 위해 이름을 부여함으로써 **데이터를 재사용하고 효율적으로 관리할 수 있도록 돕습니다.** 이를 통해 코드의 가독성이 높아지고 유지보수가 더욱 편리해집니다."
      ]
    },
    {
      "cell_type": "code",
      "execution_count": 6,
      "metadata": {
        "id": "h2pHUrB9Ng23"
      },
      "outputs": [
        {
          "data": {
            "text/plain": [
              "18.849555921"
            ]
          },
          "execution_count": 6,
          "metadata": {},
          "output_type": "execute_result"
        }
      ],
      "source": [
        "# 코드 1-2. 변수를 사용하는 이유: 편의성\n",
        "# 소수점 10자리의 원주율을 변수 pi로 지정\n",
        "pi = 3.1415926535\n",
        "\n",
        "# 반지름이 3인 원의 원주 계산 (2 * 원주율 * 반지름)\n",
        "2 * pi * 3"
      ]
    },
    {
      "cell_type": "markdown",
      "metadata": {
        "id": "bMG4WUZJNg23"
      },
      "source": [
        "#### 1.1.3. 변수의 업데이트\n",
        "\n",
        "> 변수의 업데이트\n",
        "\n",
        "**변수에 저장된 값을 수정하거나 새로운 값을 할당하는 과정**을 변수의 업데이트라고 합니다. 파이썬에서는 기존 변수에 새로운 값을 간단히 할당하여 쉽게 업데이트할 수 있습니다."
      ]
    },
    {
      "cell_type": "code",
      "execution_count": null,
      "metadata": {
        "id": "5jTutyvlNg24"
      },
      "outputs": [],
      "source": [
        "# 코드 1-3. 변수의 업데이트\n",
        "# 변수 x에 10을 할당\n",
        "x = 10\n",
        "\n",
        "# x에 20을 할당해 업데이트\n",
        "x = 20\n",
        "x"
      ]
    },
    {
      "cell_type": "markdown",
      "metadata": {
        "id": "jH41uC5DNg24"
      },
      "source": [
        "#### 1.1.4. 변수명을 지정하는 규칙\n",
        "\n",
        "> 변수 명명법\n",
        "\n",
        "파이썬에서 변수명을 지정할 때 몇 가지 규칙을 지켜야 합니다.\n",
        "\n",
        "- **첫 글자는 문자나 언더스코어(_)를 사용해야 합니다.**\n",
        "\n",
        "  변수명에 숫자가 포함될 수 있으나, 변수명의 첫 글자로 숫자는 불가합니다.\n",
        "  \n",
        "  이후에는 문자, 숫자, 언더스코어를 조합할 수 있습니다.\n",
        "\n",
        "- **대소문자를 구분합니다.**\n",
        "\n",
        "  예를 들어, df와 Df는 서로 다른 변수로 인식됩니다. 소문자를 사용하는 것이 일반적입니다.\n",
        "\n",
        "- **파이썬의 키워드나 함수명은 변수명으로 사용할 수 없습니다.**\n",
        "\n",
        "  예를 들어, True, False, if, print 등은 변수명으로 사용할 수 없습니다."
      ]
    },
    {
      "cell_type": "markdown",
      "metadata": {
        "id": "OwKYmM8YNg24"
      },
      "source": [
        "> 스네이크 표기법\n",
        "\n",
        "변수명은 스네이크 표기법(snake_case)을 따르는 것이 권장되며, 이 방식에서는 **모든 문자를 소문자로 작성하고 단어 간 구분은 언더스코어(_)를 사용합니다.**\n",
        "\n",
        "<img src=https://i.postimg.cc/66G4xpjp/camel-snake.jpg, width=600>\n",
        "\n",
        "[그림 1-2] 카멜 표기법과 스네이크 표기법\n",
        "\n",
        "스네이크 표기법에 대한 자세한 내용은 다음 링크를 참고하세요.\n",
        "\n",
        "🎈 [네이밍 규칙: 카멜 표기법과 스네이크 표기법](https://kimpanda.tistory.com/328)"
      ]
    },
    {
      "cell_type": "markdown",
      "metadata": {
        "id": "4W9RnNAhNg24"
      },
      "source": [
        "> 퀴즈\n",
        "\n",
        "다음 중 변수명으로 가능한 것을 모두 고르시오.\n",
        "\n",
        "1. 1data\n",
        "2. data(sum)\n",
        "3. 데이터\n",
        "4. user_data\n",
        "5. Data2\n",
        "\n",
        "**😀 해답**\n",
        "\n",
        "숫자로 시작하거나 괄호와 같은 특수문자가 포함된 이름(예: `1data`, `data(sum)`)은 변수명으로 사용할 수 없습니다. 그래서 변수명으로 사용할 수 있는 예는 `데이터`, `user_data`, `Data2`입니다.\n",
        "\n",
        "또한, 한글(예: `데이터`)이나 대문자(예: `Data2`)로 변수명을 지정하는 것은 권장 사항에 어긋나므로, `user_data`와 같이 소문자와 언더스코어(`_`)를 사용하는 형식이 가장 권장됩니다.\n"
      ]
    },
    {
      "cell_type": "markdown",
      "metadata": {
        "id": "sTK8cGuzNg24"
      },
      "source": [
        "#### 심화\n",
        "\n",
        "**👌 참고 사항**\n",
        "\n",
        "우리의 목표는 데이터 분석 입문을 위한 기본적인 파이썬 내용을 빠르고 효율적으로 학습하는 것이므로, **심화 내용은 지금 학습하지 않으셔도 괜찮습니다.** 이 내용은 더 깊이 학습하고자 하는 분들을 위해 참고용으로 제공된 것이며, 데이터 분석에 입문한 이후 학습하셔도 무방합니다.\n",
        "\n",
        "> ChatGPT에 질문하기\n",
        "\n",
        "ChatGPT에 심화 내용을 질문해 보다 깊이 학습할 수 있습니다.\n",
        "\n",
        "🎈 [http://chatgpt.com/](http://chatgpt.com/)\n",
        "\n",
        "```\n",
        "프롬프트\n",
        "파이썬의 변수에 대한 초급 강의를 학습한 수강생입니다.\n",
        "더 깊이 있는 내용을 알려주세요.\n",
        "```"
      ]
    },
    {
      "cell_type": "markdown",
      "metadata": {
        "id": "mZ9Ihw73Ng24"
      },
      "source": [
        "> 기존 변수의 값을 활용한 업데이트\n",
        "\n",
        "\n",
        "기존 변수의 값을 활용하여 변수를 업데이트할 수도 있습니다. 이 방법은 데이터를 동적으로 처리하고 변수의 값을 효율적으로 변경하는 데 유용합니다."
      ]
    },
    {
      "cell_type": "code",
      "execution_count": 4,
      "metadata": {
        "colab": {
          "base_uri": "https://localhost:8080/"
        },
        "id": "gnCeD0HoNg24",
        "outputId": "8ff2f7e0-6424-4c04-e719-04a844978a2d"
      },
      "outputs": [
        {
          "name": "stdout",
          "output_type": "stream",
          "text": [
            "11\n"
          ]
        }
      ],
      "source": [
        "# 코드 1-4. 기존 변수의 값을 활용해 변수 업데이트\n",
        "# 변수 x에 10을 할당\n",
        "x = 10\n",
        "\n",
        "# x에 1을 더하여 업데이트\n",
        "x = x + 1\n",
        "\n",
        "# print 함수로 결과 출력\n",
        "print(x)  # 출력: 11"
      ]
    },
    {
      "cell_type": "markdown",
      "metadata": {
        "id": "GCMSdBvvNg24"
      },
      "source": [
        "**축약 할당 연산자**를 사용하면 기존 변수의 값을 더욱 간편하게 업데이트할 수 있습니다. 예를 들어, `x = x + 1`은 `x += 1`과 동일한 코드입니다."
      ]
    },
    {
      "cell_type": "code",
      "execution_count": 5,
      "metadata": {
        "colab": {
          "base_uri": "https://localhost:8080/"
        },
        "id": "Ar5THYTfNg25",
        "outputId": "2e2460c1-4d7c-444d-a94f-f298fcd02868"
      },
      "outputs": [
        {
          "name": "stdout",
          "output_type": "stream",
          "text": [
            "11\n"
          ]
        }
      ],
      "source": [
        "# 코드 1-5. 축약 할당 연산자를 사용해 [코드 1-4]와 동일한 결과 얻기\n",
        "# 변수 x에 10을 할당\n",
        "x = 10\n",
        "\n",
        "# x에 1을 더하여 업데이트 (축약 할당 연산자 += 사용)\n",
        "x += 1\n",
        "\n",
        "# print 함수로 결과 출력\n",
        "print(x)  # 출력: 11"
      ]
    },
    {
      "cell_type": "markdown",
      "metadata": {
        "id": "XPAg0qKXNg25"
      },
      "source": [
        "축약 할당 연산자에는 `+=` 외에도 `-=`, `*=`, `/=` 등이 있습니다. 이러한 연산자는 주로 반복문과 같은 제어문에서 사용되지만, 반복문을 자주 사용하지 않는 데이터 분석 모듈(예: 판다스 라이브러리)에서는 자주 사용되지는 않습니다."
      ]
    },
    {
      "cell_type": "markdown",
      "metadata": {
        "id": "D8_mvpfTOHcQ"
      },
      "source": [
        "**😀 파이썬의 엑셀, 판다스 라이브러리 출판 안내**\n",
        "\n",
        "**서울대** 이성주 교수님과 **카이스트** 차유진 교수님이 추천한 데이터 분석 책 **『파이썬의 엑셀, 판다스 라이브러리』**가 출판되었습니다. 이 책은 입문자를 위해 데이터 분석 과정에서 가장 중요한 판다스 라이브러리를 쉽게 풀어쓴 **입문서**이며, 동시에 여러분의 데이터 처리 역량을 강화하는 데 큰 도움이 되는 **기본서**입니다.\n",
        "\n",
        "<img src=https://i.postimg.cc/MKg8TW75/01.jpg, width=600>\n",
        "\n",
        "🎈 [파이썬의 엑셀, 판다스 라이브러리 목차 확인](https://kimpanda.tistory.com/274)\n",
        "\n",
        "🎈 [교보문고 구매 페이지](https://product.kyobobook.co.kr/detail/S000214350781)"
      ]
    }
  ],
  "metadata": {
    "colab": {
      "provenance": []
    },
    "kernelspec": {
      "display_name": "Python 3",
      "name": "python3"
    },
    "language_info": {
      "codemirror_mode": {
        "name": "ipython",
        "version": 3
      },
      "file_extension": ".py",
      "mimetype": "text/x-python",
      "name": "python",
      "nbconvert_exporter": "python",
      "pygments_lexer": "ipython3",
      "version": "3.9.6"
    }
  },
  "nbformat": 4,
  "nbformat_minor": 0
}
