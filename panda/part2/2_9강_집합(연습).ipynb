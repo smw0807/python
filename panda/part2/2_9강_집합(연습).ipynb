{
  "cells": [
    {
      "cell_type": "markdown",
      "metadata": {
        "id": "PCYWm8K16eAl"
      },
      "source": [
        "### 2.9. 집합\n",
        "\n",
        "**집합(set) 자료형은 중복을 제거하고 집합 연산(교집합, 합집합, 차집합 등)을 수행하는 데 유용한 자료형입니다.**\n",
        "\n",
        "집합의 주요 특징은 다음과 같습니다:\n",
        "\n",
        "- **중복을 허용하지 않음**\n",
        "\n",
        " 집합의 원소는 모두 고유해야 합니다.\n",
        "예를 들어, {1, 2, 2, 3}은 중복이 제거되어 {1, 2, 3}으로 저장됩니다.\n",
        "\n",
        "- **순서가 없음**\n",
        "\n",
        " 집합은 순서를 유지하지 않으므로 인덱스를 통한 접근이 불가능합니다.\n",
        "따라서 리스트와 달리 인덱싱으로 원소를 직접 가져올 수 없습니다.\n",
        "\n",
        "- **집합 연산**\n",
        "\n",
        " 합집합, 교집합 등의 집합 연산을 간편하게 수행합니다.\n",
        "\n",
        "집합을 출력하면 정렬된 것처럼 보이는 이유는 원소의 순서를 유지하지 않기 때문입니다.\n",
        "예를 들어, {3, 1, 2, 1}은 중복이 제거되고 순서 없이 저장되므로 {1, 2, 3}으로 출력됩니다.\n",
        "\n",
        "\n"
      ]
    },
    {
      "cell_type": "markdown",
      "metadata": {
        "id": "ocXg3CM_-t-e"
      },
      "source": [
        "#### 2.9.1. 집합 자료형 생성\n",
        "\n",
        "> 집합 자료형 생성\n",
        "\n",
        "파이썬에서 집합을 생성하는 방법은 다음과 같습니다:\n",
        "\n",
        "- **중괄호 사용**\n",
        "\n",
        " 예: {1, 2, 3}\n",
        "\n",
        " 숫자 1, 2, 3을 원소로 가진 집합을 생성합니다.\n",
        "\n",
        "- **`set` 함수 사용**\n",
        "\n",
        " 예: set([1, 2, 3])\n",
        "\n",
        " 리스트나 다른 반복 가능한 객체를 집합으로 변환합니다.\n",
        "\n",
        "**👌 주의 사항**\n",
        "\n",
        "빈 중괄호 `{}`는 빈 딕셔너리를 생성하므로, 빈 집합을 만들려면 반드시 `set()`을 사용해야 합니다."
      ]
    },
    {
      "cell_type": "code",
      "execution_count": 3,
      "metadata": {
        "id": "FwYR891jM6nG"
      },
      "outputs": [
        {
          "name": "stdout",
          "output_type": "stream",
          "text": [
            "{1, 2}\n",
            "{1, 2, 3}\n",
            "set()\n"
          ]
        }
      ],
      "source": [
        "# 코드 2-46. 집합 생성\n",
        "# 중괄호로 집합 {1, 2}를 생성하여 변수 a에 할당 후 출력\n",
        "a = set({1, 2})\n",
        "print(a)\n",
        "\n",
        "\n",
        "b = [3, 1, 2, 1]\n",
        "# 리스트 b를 집합으로 변환 후 출력\n",
        "print(set(b))\n",
        "\n",
        "# 빈 집합 자료형 생성 (반드시 set 함수 사용)\n",
        "print(set())"
      ]
    },
    {
      "cell_type": "markdown",
      "metadata": {
        "id": "GY7pcR11-nFH"
      },
      "source": [
        "#### 2.9.2. 집합 연산\n",
        "\n",
        "> 집합 연산\n",
        "\n",
        "파이썬의 집합 자료형(set)은 다양한 집합 연산을 지원합니다.\n",
        "\n",
        "<img src=https://i.postimg.cc/htQwKcck/2-10.png, width=600>\n",
        "\n",
        "[그림 2-10] 집합 연산\n",
        "\n",
        "- **합집합**(union)\n",
        "\n",
        " 두 집합의 모든 원소를 합친 새로운 집합을 반환합니다.\n",
        "\n",
        " `a | b` 또는 `a.union(b)`\n",
        "\n",
        "- **교집합**(intersection)\n",
        "\n",
        " 두 집합의 공통 원소로 구성된 집합을 반환합니다.\n",
        "\n",
        " `a & b` 또는 `a.intersection(b)`\n",
        "\n",
        "- **차집합**(difference)\n",
        "\n",
        " 첫 번째 집합에는 있지만 두 번째 집합에는 없는 원소들로 구성된 집합을 반환합니다.\n",
        "\n",
        " `a - b` 또는 `a.difference(b)`\n",
        "\n",
        "- **대칭 차집합**(symmetric_difference)\n",
        "\n",
        " 두 집합에 각각 존재하지만 공통적이지 않은 원소들로 구성된 집합을 반환합니다.\n",
        "\n",
        " `a ^ b` 또는 `a.symmetric_difference(b)`"
      ]
    },
    {
      "cell_type": "code",
      "execution_count": 4,
      "metadata": {
        "id": "hyPbGaN-_M1u"
      },
      "outputs": [
        {
          "name": "stdout",
          "output_type": "stream",
          "text": [
            "{1, 2}\n",
            "{1, 2, 3, 4}\n",
            "{3}\n"
          ]
        }
      ],
      "source": [
        "# 코드 2-47. 집합 자료형의 집합 연산\n",
        "a = {1, 2, 3}\n",
        "b = {1, 2, 4}\n",
        "\n",
        "# 집합 a와 b의 교집합 출력\n",
        "print(a&b)\n",
        "\n",
        "# 집합 a와 b의 합집합 출력\n",
        "print(a|b)\n",
        "\n",
        "# 집합 a와 b의 차집합 출력\n",
        "print(a-b)"
      ]
    },
    {
      "cell_type": "markdown",
      "metadata": {
        "id": "OGdGG3RoiDs3"
      },
      "source": [
        "#### 2.9.3. 각 컬렉션 자료형의 용도\n",
        "\n",
        "> 각 컬렉션 자료형의 용도\n",
        "\n",
        "파이썬의 컬렉션 자료형의 용도를 정리하면 다음과 같습니다:\n",
        "\n",
        "- **리스트**: 범용적으로 활용\n",
        "- **튜플**: 불변 객체가 필요할 때\n",
        "- **딕셔너리**: 키를 사용한 데이터 접근이 필요할 때\n",
        "- **집합**: 집합 연산이 필요할 때"
      ]
    },
    {
      "cell_type": "markdown",
      "metadata": {
        "id": "OjKhHPzUbyId"
      },
      "source": [
        "**😀 파이썬의 엑셀, 판다스 라이브러리 출판 안내**\n",
        "\n",
        "**서울대** 이성주 교수님과 **카이스트** 차유진 교수님이 추천한 데이터 분석 책 **『파이썬의 엑셀, 판다스 라이브러리』**가 출판되었습니다. 이 책은 입문자를 위해 데이터 분석 과정에서 가장 중요한 판다스 라이브러리를 쉽게 풀어쓴 **입문서**이며, 동시에 여러분의 데이터 처리 역량을 강화하는 데 큰 도움이 되는 **기본서**입니다.\n",
        "\n",
        "<img src=https://i.postimg.cc/MKg8TW75/01.jpg, width=600>\n",
        "\n",
        "🎈 [파이썬의 엑셀, 판다스 라이브러리 목차 확인](https://kimpanda.tistory.com/274)\n",
        "\n",
        "🎈 [교보문고 구매 페이지](https://product.kyobobook.co.kr/detail/S000214350781)"
      ]
    }
  ],
  "metadata": {
    "colab": {
      "provenance": []
    },
    "kernelspec": {
      "display_name": "Python 3",
      "name": "python3"
    },
    "language_info": {
      "codemirror_mode": {
        "name": "ipython",
        "version": 3
      },
      "file_extension": ".py",
      "mimetype": "text/x-python",
      "name": "python",
      "nbconvert_exporter": "python",
      "pygments_lexer": "ipython3",
      "version": "3.9.6"
    }
  },
  "nbformat": 4,
  "nbformat_minor": 0
}
