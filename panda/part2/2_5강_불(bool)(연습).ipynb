{
  "cells": [
    {
      "cell_type": "markdown",
      "metadata": {
        "id": "qdlMly-VyJn8"
      },
      "source": [
        "### 2.5. 불(bool)\n",
        "\n",
        "불(bool) 또는 불리언(boolean) 자료형은 **True(참)**와 **False(거짓)**로 구성되며, 데이터 분석에서 필터링이나 조건 처리에 자주 사용됩니다.\n",
        "\n",
        "`True`와 `False`는 파이썬의 키워드로 정해져 있어 변수명이나 함수명으로 사용할 수 없으며, 반드시 첫 글자를 대문자로 작성해야 합니다. 예를 들어, true나 false로 작성하면 오류가 발생합니다. 참고로 키워드는 파이썬에서 특정 역할을 위해 정해진 미리 단어이며 자세한 내용은 다음에 다룹니다.\n",
        "\n"
      ]
    },
    {
      "cell_type": "code",
      "execution_count": 1,
      "metadata": {
        "id": "ed6nErRryJn9"
      },
      "outputs": [
        {
          "name": "stdout",
          "output_type": "stream",
          "text": [
            "True\n",
            "False\n"
          ]
        }
      ],
      "source": [
        "# 코드 2-25. 불(bool) 자료형 생성\n",
        "\n",
        "# True를 생성하고 출력\n",
        "print(True)\n",
        "\n",
        "# False를 생성하고 출력\n",
        "print(False)"
      ]
    },
    {
      "cell_type": "markdown",
      "metadata": {
        "id": "oEuFT3hayJn-"
      },
      "source": [
        "#### 2.5.1. 비교 연산\n",
        "\n",
        "> 비교 연산\n",
        "\n",
        "파이썬에서는 비교 연산의 결과로 불 자료형이 반환됩니다. 파이썬에서 사용하는 비교 연산과 연산자는 다음과 같습니다.\n",
        "\n",
        "\n",
        "| 비교 연산자 | 비교 연산                                |\n",
        "|-------------|------------------------------------------|\n",
        "| ==          | 같다(두 값이 같을 때 True)              |\n",
        "| !=          | 다르다(두 값이 다를 때 True)            |\n",
        "| >           | 크다(왼쪽 값이 클 때 True)              |\n",
        "| >=          | 크거나 같다(왼쪽 값이 크거나 같을 때 True) |\n",
        "| <           | 작다(왼쪽 값이 작을 때 True)            |\n",
        "| <=          | 작거나 같다(왼쪽 값이 작거나 같을 때 True) |\n",
        "\n",
        "[표 2-3] 파이썬의 비교 연산\n",
        "\n",
        "**등호가 포함된 비교 연산자(예: `>=`)는 등호가 오른쪽에 위치합니다.** \"여러분은 우등생이니까 우측에 등호가 위치한다.\"라고 기억하셔도 좋습니다.\n"
      ]
    },
    {
      "cell_type": "code",
      "execution_count": 2,
      "metadata": {
        "id": "wvQTqr2ZyJn_"
      },
      "outputs": [
        {
          "name": "stdout",
          "output_type": "stream",
          "text": [
            "True\n",
            "False\n",
            "True\n"
          ]
        }
      ],
      "source": [
        "# 코드 2-26. 비교 연산\n",
        "\n",
        "# 정수 3이 정수 2보다 크거나 같은지 확인 후 출력\n",
        "print(3 >= 2)\n",
        "\n",
        "# 정수 5와 문자열 '5'가 같은지 확인 후 출력\n",
        "print(5 == '5')\n",
        "\n",
        "# 정수 0과 실수 0.0이 다른지 확인 후 출력\n",
        "print(0 == 0.0)"
      ]
    },
    {
      "cell_type": "markdown",
      "metadata": {
        "id": "5Q9nyGnwyJn_"
      },
      "source": [
        "#### 2.5.2. 논리 연산\n",
        "\n",
        "논리 연산은 조건들을 결합하거나 조건의 `True` 또는 `False`를 반전할 때 사용됩니다. 파이썬에서는 세 가지 주요 논리 연산자인 `and`, `or`, `not`을 제공합니다.\n",
        "\n",
        "> 논리 연산\n",
        "\n",
        "1. **and**: 조건이 모두 `True`일 때만 `True`를 반환합니다.\n",
        "\n",
        " ```python\n",
        "True and True   # 결과: True\n",
        "True and False  # 결과: False\n",
        "```\n",
        "\n",
        "2. **or**: 조건 중 하나라도 `True`이면 `True`를 반환합니다.\n",
        "\n",
        " ```python\n",
        "True or False   # 결과: True\n",
        "False or False  # 결과: False\n",
        "```\n",
        "\n",
        "\n",
        "3. **not**: 조건의 `True`와 `False`를 반전시킵니다.\n",
        "\n",
        " ```python\n",
        "not True        # 결과: False\n",
        "not False       # 결과: True\n",
        "```\n",
        "\n",
        "<br>\n",
        "\n",
        "> 논리 연산 정리\n",
        "\n",
        "논리 연산의 동작을 간단히 정리하면 다음과 같습니다\n",
        "\n",
        "| 논리 연산자 | 연산                                                                 |\n",
        "|-------------|----------------------------------------------------------------------|\n",
        "| and         | 모든 값이 True일 때만 True를 반환하고, 그렇지 않으면 False를 반환       |\n",
        "| or          | 모든 값이 False일 때만 False를 반환하고, 그렇지 않으면 True를 반환       |\n",
        "| not         | True는 False로, False는 True로 변환                                  |\n",
        "\n",
        "[표 2-4] 논리 연산의 간단 정리\n"
      ]
    },
    {
      "cell_type": "code",
      "execution_count": 3,
      "metadata": {
        "id": "VhH8wzhwyJoA"
      },
      "outputs": [
        {
          "name": "stdout",
          "output_type": "stream",
          "text": [
            "False\n"
          ]
        }
      ],
      "source": [
        "# 코드 2-27. 논리 연산\n",
        "a = 1\n",
        "\n",
        "# 변수 a가 3보다 크거나(a > 3) 0과 같은지(a == 0) 확인 후 출력\n",
        "print(a > 3 or a == 0)"
      ]
    },
    {
      "cell_type": "markdown",
      "metadata": {
        "id": "qWfyxxyJyJoA"
      },
      "source": [
        "#### 2.5.3. 불 자료형의 산술 연산\n",
        "\n",
        "> 불 자료형의 산술 연산\n",
        "\n",
        "불 자료형은 산술 연산에서도 활용될 수 있습니다. 파이썬에서는 `True`를 1로, `False`를 0으로 간주하여 연산을 수행합니다. 예를 들어, `True + True + False`는 2로 계산됩니다. 이러한 연산 결과는 `True`의 개수가 2개임을 파악하는 데 유용하여, 조건에 맞는 데이터의 개수를 효과적으로 찾을 수 있습니다."
      ]
    },
    {
      "cell_type": "code",
      "execution_count": 4,
      "metadata": {
        "id": "jKsBvbZRyJoA"
      },
      "outputs": [
        {
          "name": "stdout",
          "output_type": "stream",
          "text": [
            "2\n"
          ]
        }
      ],
      "source": [
        "# 코드 2-28. 불 자료형의 산술 연산\n",
        "\n",
        "# True + True + False를 연산하고 출력\n",
        "print(True + True + False)"
      ]
    },
    {
      "cell_type": "markdown",
      "metadata": {
        "id": "6dyvu5UyyJoA"
      },
      "source": [
        "또한, 0과 1로 이루어진 배열의 평균은 배열에서 1의 비율을 의미합니다. 이는 `True`와 `False`의 경우에도 동일하게 적용되며, 추후 데이터 분석 모듈에서 자주 활용됩니다.\n",
        "```python\n",
        "[0, 1, 1, 0]  # 평균: 0.5, 1의 비율: 0.5\n",
        "```\n",
        "자료형마다 평균을 구하는 방법이 다르기 때문에 이 시점에서는 불 자료형 배열에서 평균이 `True`의 비율을 나타낸다는 점을 기억해 두세요.\n"
      ]
    },
    {
      "cell_type": "markdown",
      "metadata": {
        "id": "6hkPcqmgyJoB"
      },
      "source": [
        "#### 심화\n",
        "\n",
        "**👌 참고 사항**\n",
        "\n",
        "우리의 목표는 데이터 분석 입문을 위한 기본적인 파이썬 내용을 빠르고 효율적으로 학습하는 것이므로, **심화 내용은 지금 학습하지 않으셔도 괜찮습니다.** 이 내용은 더 깊이 학습하고자 하는 분들을 위해 참고용으로 제공된 것이며, 데이터 분석에 입문한 이후 학습하셔도 무방합니다.\n",
        "\n",
        "> 논리 연산의 엄밀한 정리\n",
        "\n",
        "파이썬의 논리 연산을 간단히 정리하면 [표 2-4]와 같지만, 이는 여러분의 이해를 돕기 위한 정리일 뿐, 엄밀한 정의는 아닙니다. 정확히 말하면, 파이썬의 논리 연산 동작은 다음과 같습니다. **and** 연산자는 왼쪽에서 오른쪽으로 평가하며, 첫 번째로 `False`로 평가되는 값을 반환하고, 모든 값이 `True`일 경우 마지막 값을 반환합니다. 반면, **or** 연산자는 첫 번째로, `True`로 평가되는 값을 반환하며, 모든 값이 `False`라면 마지막 값을 반환합니다. **not** 연산자는 동일하게 `True`를 `False`로, `False`를 `True`로 변환합니다. 이는 [표 2-5]에 정리되어 있습니다.\n",
        "\n",
        "\n",
        "| 논리 연산자 | 연산                                                                                   |\n",
        "|-------------|----------------------------------------------------------------------------------------|\n",
        "| and         | 첫 번째로 False로 평가되는 값을 반환. 모든 값이 True라면 마지막 값을 반환. |\n",
        "| or          | 첫 번째로 True로 평가되는 값을 반환. 모든 값이 False라면 마지막 값을 반환. |\n",
        "| not         | True는 False로, False는 True로 변환                                                    |\n",
        "\n",
        "[표 2-5] 논리 연산의 엄밀한 정리\n",
        "\n",
        "엄밀한 정리는 이후 파이썬의 중급자가 되었을 때, 불(bool) 자료형이 아닌 다른 자료형의 논리 연산에서 쓰입니다. 따라서, 여러분처럼 불 자료형에만 논리 연산을 사용하는 입문 단계에서는 [표 2-4]와 같이 간단히 정리해도 충분합니다."
      ]
    },
    {
      "cell_type": "markdown",
      "metadata": {
        "id": "R6kWzhQNutQc"
      },
      "source": [
        "> 비트 연산자\n",
        "\n",
        "\n",
        "| 논리 연산자 | 비트 연산자 |\n",
        "|-------------|-------------|\n",
        "| and         | &           |\n",
        "| or          | \\|          |\n",
        "| not         | ~           |\n",
        "\n",
        "[표 2-6] 논리 연산자와 비트 연산자\n",
        "\n",
        "\n",
        "**비트 연산자는 숫자의 이진 표현(비트 단위)에서 연산을 수행하는 데 사용되며, 논리 연산자와는 목적과 동작이 다릅니다.** 다만, 일부 연산에서 비트 연산자가 논리 연산자와 유사하게 작동하기 때문에 혼동할 수 있습니다. **기본 파이썬** 환경에서 불 자료형의 논리 연산을 수행할 경우, `and`, `or`, `not`을 사용하는 것이 적합합니다.\n",
        "\n",
        "반면, **데이터 분석** 모듈에서는 `&`(비트 and), `|`(비트 or), `~`(비트 not)이 정의된 연산으로 사용되며, 이 경우 `and`, `or`, `not`을 사용하지 않습니다. 이러한 상황에서 중요한 것은 세부적인 동작보다는 **논리 연산자와 비트 연산자는 목적과 동작이 다르다**는 점을 기억하는 것입니다.\n",
        "\n"
      ]
    },
    {
      "cell_type": "markdown",
      "metadata": {
        "id": "pqiRqw2fyiuM"
      },
      "source": [
        "**😀 파이썬의 엑셀, 판다스 라이브러리 출판 안내**\n",
        "\n",
        "**서울대** 이성주 교수님과 **카이스트** 차유진 교수님이 추천한 데이터 분석 책 **『파이썬의 엑셀, 판다스 라이브러리』**가 출판되었습니다. 이 책은 입문자를 위해 데이터 분석 과정에서 가장 중요한 판다스 라이브러리를 쉽게 풀어쓴 **입문서**이며, 동시에 여러분의 데이터 처리 역량을 강화하는 데 큰 도움이 되는 **기본서**입니다.\n",
        "\n",
        "<img src=https://i.postimg.cc/MKg8TW75/01.jpg, width=600>\n",
        "\n",
        "🎈 [파이썬의 엑셀, 판다스 라이브러리 목차 확인](https://kimpanda.tistory.com/274)\n",
        "\n",
        "🎈 [교보문고 구매 페이지](https://product.kyobobook.co.kr/detail/S000214350781)"
      ]
    }
  ],
  "metadata": {
    "colab": {
      "provenance": []
    },
    "kernelspec": {
      "display_name": "Python 3",
      "name": "python3"
    },
    "language_info": {
      "codemirror_mode": {
        "name": "ipython",
        "version": 3
      },
      "file_extension": ".py",
      "mimetype": "text/x-python",
      "name": "python",
      "nbconvert_exporter": "python",
      "pygments_lexer": "ipython3",
      "version": "3.9.6"
    }
  },
  "nbformat": 4,
  "nbformat_minor": 0
}
