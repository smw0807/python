{
  "cells": [
    {
      "cell_type": "markdown",
      "metadata": {
        "id": "rPyxx2qVTFYg"
      },
      "source": [
        "## 연습 문제 (문제)\n",
        "\n",
        "```\n",
        "⭐ 간단한 연습 문제를 준비했습니다.\n",
        "\n",
        "어렵게 느껴지더라도 걱정하지 마세요!\n",
        "\n",
        "복습할 기회이자 ChatGPT를 활용할 좋은 기회입니다.\n",
        "```\n",
        "\n",
        "- **[+ 코드]** 버튼 왼쪽에 있는 **목차** 기능을 활용하여 해당 단원의 문제를 풀고, 해답을 확인하세요.\n",
        "\n",
        "- 어려운 문제가 나오면 해답을 보기 전에  **ChatGPT**([🔗 링크](https://chatgpt.com/) )에게 질문해 보세요."
      ]
    },
    {
      "cell_type": "markdown",
      "metadata": {
        "id": "53jRh-CVTFYh"
      },
      "source": [
        "### 변수\n",
        "\n",
        "❓ 1. 변수를 사용하는 이유를 설명하세요.\n"
      ]
    },
    {
      "cell_type": "markdown",
      "metadata": {
        "id": "b33x-BxJTFYh"
      },
      "source": [
        "❓ 2. `x`에 5를 할당한 후, `x`의 값을 출력하세요."
      ]
    },
    {
      "cell_type": "code",
      "execution_count": 1,
      "metadata": {
        "id": "Qijlk7BoUs9Q"
      },
      "outputs": [
        {
          "name": "stdout",
          "output_type": "stream",
          "text": [
            "5\n"
          ]
        }
      ],
      "source": [
        "x = 5\n",
        "print(x)"
      ]
    },
    {
      "cell_type": "markdown",
      "metadata": {
        "id": "3EL-fN-yTFYi"
      },
      "source": [
        "❓ 3. `x`와 `y`에 각각 5와 10을 저장한 후, 두 변수의 합을 출력하세요."
      ]
    },
    {
      "cell_type": "code",
      "execution_count": 2,
      "metadata": {
        "id": "AEsXJ1V6TFYi"
      },
      "outputs": [
        {
          "name": "stdout",
          "output_type": "stream",
          "text": [
            "15\n"
          ]
        }
      ],
      "source": [
        "x = 5\n",
        "y = 10\n",
        "print(x + y)"
      ]
    },
    {
      "cell_type": "markdown",
      "metadata": {
        "id": "7uRwzEXlTFYi"
      },
      "source": [
        "❓ 4. 다음 변수 선언 중 올바르지 않은 것을 찾으세요.\n",
        "\n",
        "```python\n",
        "1var = 10\n",
        "my-var = 20\n",
        "_name2 = 'Python'\n",
        "True = 5\n",
        "```\n"
      ]
    },
    {
      "cell_type": "markdown",
      "metadata": {
        "id": "CsH85cDoTFYi"
      },
      "source": [
        "❓ 5. 변수 `x`에 10을 할당한 후, 값을 5 증가시켜 업데이트한 뒤 출력하세요."
      ]
    },
    {
      "cell_type": "code",
      "execution_count": 3,
      "metadata": {
        "id": "mi2WrAZ9TFYi"
      },
      "outputs": [
        {
          "name": "stdout",
          "output_type": "stream",
          "text": [
            "15\n"
          ]
        }
      ],
      "source": [
        "x = 10\n",
        "print(x + 5)"
      ]
    },
    {
      "cell_type": "markdown",
      "metadata": {
        "id": "Ko6FsEoTTFYi"
      },
      "source": [
        "---\n",
        "\n",
        "### 스칼라 자료형\n",
        "\n",
        "❓ 6. 정수 10의 자료형을 확인하는 코드를 작성하세요."
      ]
    },
    {
      "cell_type": "code",
      "execution_count": 4,
      "metadata": {
        "id": "-Fa-V68cTFYi"
      },
      "outputs": [
        {
          "name": "stdout",
          "output_type": "stream",
          "text": [
            "<class 'int'>\n"
          ]
        }
      ],
      "source": [
        "print(type(10))"
      ]
    },
    {
      "cell_type": "markdown",
      "metadata": {
        "id": "zE1FJvFsTFYi"
      },
      "source": [
        "❓ 7. `x = 3.99`일 때, `x`를 정수형으로 변환하는 코드를 작성하고 결과를 예측하세요."
      ]
    },
    {
      "cell_type": "code",
      "execution_count": 5,
      "metadata": {
        "id": "BXdjiBxITFYi"
      },
      "outputs": [
        {
          "name": "stdout",
          "output_type": "stream",
          "text": [
            "3\n"
          ]
        }
      ],
      "source": [
        "x = 3.99\n",
        "print(int(x))"
      ]
    },
    {
      "cell_type": "markdown",
      "metadata": {
        "id": "PU65r1AYWk6n"
      },
      "source": [
        "❓ 8. `7 // 2`와 `7 / 2`를 출력하고, 차이를 설명하세요."
      ]
    },
    {
      "cell_type": "code",
      "execution_count": 6,
      "metadata": {
        "id": "50qfMBHqWpAO"
      },
      "outputs": [
        {
          "name": "stdout",
          "output_type": "stream",
          "text": [
            "3\n",
            "3.5\n"
          ]
        }
      ],
      "source": [
        "print(7 // 2)\n",
        "print(7  / 2)"
      ]
    },
    {
      "cell_type": "markdown",
      "metadata": {
        "id": "4tkGh_RRWrrq"
      },
      "source": [
        "❓ 9. 변수 `s = '3.14'`를 실수형으로 변환하는 코드를 작성하세요."
      ]
    },
    {
      "cell_type": "code",
      "execution_count": 9,
      "metadata": {
        "id": "UFy9LkiCWvNo"
      },
      "outputs": [
        {
          "name": "stdout",
          "output_type": "stream",
          "text": [
            "3.14\n"
          ]
        }
      ],
      "source": [
        "s = '3.14'\n",
        "print(float(s))"
      ]
    },
    {
      "cell_type": "markdown",
      "metadata": {
        "id": "Z0P4LEupXSF2"
      },
      "source": [
        "❓ 10. `float(10)`의 출력 결과를 예측하세요."
      ]
    },
    {
      "cell_type": "code",
      "execution_count": 10,
      "metadata": {
        "id": "heMn6QiyXVT2"
      },
      "outputs": [
        {
          "name": "stdout",
          "output_type": "stream",
          "text": [
            "10.0\n"
          ]
        }
      ],
      "source": [
        "print(float(10))"
      ]
    },
    {
      "cell_type": "markdown",
      "metadata": {
        "id": "URTcjJVxXXfg"
      },
      "source": [
        "❓11. 변수 `s = 'Hello'`일 때, `s[0]`과 `s[-1]`의 값을 출력하세요."
      ]
    },
    {
      "cell_type": "code",
      "execution_count": 11,
      "metadata": {
        "id": "rOLQvQmEXZo5"
      },
      "outputs": [
        {
          "name": "stdout",
          "output_type": "stream",
          "text": [
            "H\n",
            "o\n"
          ]
        }
      ],
      "source": [
        "s = 'Hello'\n",
        "print(s[0]) # H\n",
        "print(s[-1]) # o"
      ]
    },
    {
      "cell_type": "markdown",
      "metadata": {
        "id": "oadBU4nkXpOz"
      },
      "source": [
        "❓ 12. `a = '김판다'`일 때, `a`의 길이를 출력하세요."
      ]
    },
    {
      "cell_type": "code",
      "execution_count": 12,
      "metadata": {
        "id": "gSJLDg2uXuRr"
      },
      "outputs": [
        {
          "name": "stdout",
          "output_type": "stream",
          "text": [
            "3\n"
          ]
        }
      ],
      "source": [
        "a = '김판다'\n",
        "print(len(a))"
      ]
    },
    {
      "cell_type": "markdown",
      "metadata": {
        "id": "Tx4RfddUX3-_"
      },
      "source": [
        "❓ 13. `'123' + '456'`의 출력 결과를 예측하세요."
      ]
    },
    {
      "cell_type": "code",
      "execution_count": 13,
      "metadata": {
        "id": "B8BPl_wgX6_F"
      },
      "outputs": [
        {
          "name": "stdout",
          "output_type": "stream",
          "text": [
            "123456\n"
          ]
        }
      ],
      "source": [
        "print('123' + '456') # 123456"
      ]
    },
    {
      "cell_type": "markdown",
      "metadata": {
        "id": "NlS5sypyX8zn"
      },
      "source": [
        "❓ 14. 문자열 `s = 'Hello, World!'`에서 마지막 6글자만 출력하세요."
      ]
    },
    {
      "cell_type": "code",
      "execution_count": 15,
      "metadata": {
        "id": "ZSdDH3j8YAC6"
      },
      "outputs": [
        {
          "name": "stdout",
          "output_type": "stream",
          "text": [
            "World!\n"
          ]
        }
      ],
      "source": [
        "s = 'Hello, World!'\n",
        "print(s[-6:])"
      ]
    },
    {
      "cell_type": "markdown",
      "metadata": {
        "id": "zONGA0nIYCOI"
      },
      "source": [
        "❓ 15. 문자열 s = '12345'에서 홀수 번째 문자만 출력하세요."
      ]
    },
    {
      "cell_type": "code",
      "execution_count": 16,
      "metadata": {
        "id": "sv7P0kCfYE03"
      },
      "outputs": [
        {
          "name": "stdout",
          "output_type": "stream",
          "text": [
            "135\n"
          ]
        }
      ],
      "source": [
        "s = '12345'\n",
        "print(s[::2])"
      ]
    },
    {
      "cell_type": "markdown",
      "metadata": {
        "id": "vJGDPcebYG3r"
      },
      "source": [
        "❓ 16. `5 * 2`의 결과가 `10.0`과 같은지 비교하여 불(`bool`) 자료형을 출력하세요."
      ]
    },
    {
      "cell_type": "code",
      "execution_count": 17,
      "metadata": {
        "id": "NFASO6rZYQVV"
      },
      "outputs": [
        {
          "name": "stdout",
          "output_type": "stream",
          "text": [
            "True\n"
          ]
        }
      ],
      "source": [
        "x = 5 * 2\n",
        "y = 10.0\n",
        "print(x == y)"
      ]
    },
    {
      "cell_type": "markdown",
      "metadata": {
        "id": "DGrg70xoYMpy"
      },
      "source": [
        "❓ 17. 문자열 `'hello'`와 `'Hello'`를 다르다(`!=`) 연산으로 비교하여 불(`bool`) 자료형을 출력하세요."
      ]
    },
    {
      "cell_type": "code",
      "execution_count": 18,
      "metadata": {
        "id": "HP8ZSNiKYVoP"
      },
      "outputs": [
        {
          "name": "stdout",
          "output_type": "stream",
          "text": [
            "True\n"
          ]
        }
      ],
      "source": [
        "print('hello' != 'Hello')"
      ]
    },
    {
      "cell_type": "markdown",
      "metadata": {
        "id": "4omVrhitYX58"
      },
      "source": [
        "❓ 18. 변수 `a`에 `True`, `b`에 `False`를 할당한 후, `a + b`의 결과를 출력하세요."
      ]
    },
    {
      "cell_type": "code",
      "execution_count": 19,
      "metadata": {
        "id": "hiadGz9MYgiW"
      },
      "outputs": [
        {
          "name": "stdout",
          "output_type": "stream",
          "text": [
            "1\n"
          ]
        }
      ],
      "source": [
        "a = True\n",
        "b = False\n",
        "print(a + b)"
      ]
    },
    {
      "cell_type": "markdown",
      "metadata": {
        "id": "SKc3dYEfYc_3"
      },
      "source": [
        "---\n",
        "\n",
        "### 컬렉션 자료형\n",
        "\n",
        "❓ 19. 리스트 `[1, 2, 3]`과 `[4, 5, 6]`을 합쳐 하나의 리스트를 출력하세요.\n",
        "\n",
        "\n",
        "\n",
        "\n",
        "\n"
      ]
    },
    {
      "cell_type": "code",
      "execution_count": 20,
      "metadata": {
        "id": "LdbPHBGTY1Xz"
      },
      "outputs": [
        {
          "name": "stdout",
          "output_type": "stream",
          "text": [
            "[1, 2, 3, 4, 5, 6]\n"
          ]
        }
      ],
      "source": [
        "print([1,2,3] + [4,5,6])"
      ]
    },
    {
      "cell_type": "markdown",
      "metadata": {
        "id": "Ndaq9yCPYfRX"
      },
      "source": [
        "❓20. 리스트 `numbers = [10, 20, 30, 40]`에서 첫 번째 원소를 출력하세요."
      ]
    },
    {
      "cell_type": "code",
      "execution_count": 21,
      "metadata": {
        "id": "GcD27dNXY6S-"
      },
      "outputs": [
        {
          "name": "stdout",
          "output_type": "stream",
          "text": [
            "10\n"
          ]
        }
      ],
      "source": [
        "numbers = [10, 20, 30, 40]\n",
        "print(numbers[0])"
      ]
    },
    {
      "cell_type": "markdown",
      "metadata": {
        "id": "uJpn7ynVY8T2"
      },
      "source": [
        "❓ 21. 리스트 `numbers = [10, 20, 30, 40]`의 길이를 출력하세요."
      ]
    },
    {
      "cell_type": "code",
      "execution_count": 22,
      "metadata": {
        "id": "APphhmGUY_f6"
      },
      "outputs": [
        {
          "name": "stdout",
          "output_type": "stream",
          "text": [
            "4\n"
          ]
        }
      ],
      "source": [
        "numbers = [10, 20, 30, 40]\n",
        "print(len(numbers))"
      ]
    },
    {
      "cell_type": "markdown",
      "metadata": {
        "id": "cBPvmzXOZCvE"
      },
      "source": [
        "❓ 22. 리스트 `numbers =[10, 20, 30, 40, 50]`에서 앞의 3개 원소만 출력하세요."
      ]
    },
    {
      "cell_type": "code",
      "execution_count": 23,
      "metadata": {
        "id": "ia-39OmPZGF2"
      },
      "outputs": [
        {
          "name": "stdout",
          "output_type": "stream",
          "text": [
            "[10, 20, 30]\n"
          ]
        }
      ],
      "source": [
        "numbers = [10, 20, 30, 40, 50]\n",
        "print(numbers[:3])"
      ]
    },
    {
      "cell_type": "markdown",
      "metadata": {
        "id": "D5VFlRrQZIXi"
      },
      "source": [
        "❓ 23. 튜플 `t = (10, 20, 30, 40, 50)`에서 세 번째 원소를 출력하세요."
      ]
    },
    {
      "cell_type": "code",
      "execution_count": 24,
      "metadata": {
        "id": "iitPh3N1ZLcS"
      },
      "outputs": [
        {
          "name": "stdout",
          "output_type": "stream",
          "text": [
            "30\n"
          ]
        }
      ],
      "source": [
        "t = (10, 20, 30, 40, 50)\n",
        "print(t[2])"
      ]
    },
    {
      "cell_type": "markdown",
      "metadata": {
        "id": "Q_ZQdiFUZNdv"
      },
      "source": [
        "❓ 24. 두 개의 튜플 `(1, 2, 3)`과 `(4, 5, 6)`을 하나의 튜플로 합치고 출력하세요."
      ]
    },
    {
      "cell_type": "code",
      "execution_count": 25,
      "metadata": {
        "id": "ngd3qyawZQob"
      },
      "outputs": [
        {
          "name": "stdout",
          "output_type": "stream",
          "text": [
            "(1, 2, 3, 4, 5, 6)\n"
          ]
        }
      ],
      "source": [
        "print((1, 2, 3) + (4, 5, 6))"
      ]
    },
    {
      "cell_type": "markdown",
      "metadata": {
        "id": "SqG1aWxfZSaL"
      },
      "source": [
        "❓ 25. 튜플 언패킹을 사용하여 변수 `x`에 5, 변수 `y`에 10을 할당하세요."
      ]
    },
    {
      "cell_type": "code",
      "execution_count": 26,
      "metadata": {
        "id": "DvsB4GvtZV6T"
      },
      "outputs": [],
      "source": [
        "x, y = 5, 10"
      ]
    },
    {
      "cell_type": "markdown",
      "metadata": {
        "id": "CGsW29zmZXuc"
      },
      "source": [
        "❓ 26. 딕셔너리 `d = {'A': 10, 'B': 20, 'C': 30}`에서 키 `'B'`의 밸류를 출력하세요."
      ]
    },
    {
      "cell_type": "code",
      "execution_count": 27,
      "metadata": {
        "id": "a6De-wSNZa5-"
      },
      "outputs": [
        {
          "name": "stdout",
          "output_type": "stream",
          "text": [
            "20\n"
          ]
        }
      ],
      "source": [
        "d = {'A': 10, 'B': 20, 'C': 30}\n",
        "print(d['B'])"
      ]
    },
    {
      "cell_type": "markdown",
      "metadata": {
        "id": "aF0FmUSoZc0V"
      },
      "source": [
        "❓ 27. 빈 딕셔너리 `d = {}`에 키 `'X'`와 밸류 100을 추가하는 코드를 작성하세요."
      ]
    },
    {
      "cell_type": "code",
      "execution_count": 28,
      "metadata": {
        "id": "lcqunyqjZg-z"
      },
      "outputs": [
        {
          "name": "stdout",
          "output_type": "stream",
          "text": [
            "{'X': 100}\n"
          ]
        }
      ],
      "source": [
        "d = {}\n",
        "d['X'] = 100\n",
        "print(d)"
      ]
    },
    {
      "cell_type": "markdown",
      "metadata": {
        "id": "rUcVRoD1ZjAq"
      },
      "source": [
        "❓28. 딕셔너리 `d = {'apple': 3, 'banana': 5}`에서 키 `'banana'`의 밸류를 10으로 변경하는 코드를 작성하세요."
      ]
    },
    {
      "cell_type": "code",
      "execution_count": 29,
      "metadata": {
        "id": "XBBiLFPzZm6E"
      },
      "outputs": [
        {
          "name": "stdout",
          "output_type": "stream",
          "text": [
            "{'apple': 3, 'banana': 10}\n"
          ]
        }
      ],
      "source": [
        "d = { 'apple': 3, 'banana': 5}\n",
        "d['banana'] = 10\n",
        "print(d)"
      ]
    },
    {
      "cell_type": "markdown",
      "metadata": {
        "id": "Ri_GU-U8Zo6R"
      },
      "source": [
        "❓ 29. 딕셔너리 `d = {'a': 1, 'b': 2, 'a': 3}`의 출력 결과를 예측하세요."
      ]
    },
    {
      "cell_type": "code",
      "execution_count": null,
      "metadata": {
        "id": "AfGW2w9eZr5Y"
      },
      "outputs": [],
      "source": []
    },
    {
      "cell_type": "markdown",
      "metadata": {
        "id": "1Fu2XJtLZtpV"
      },
      "source": [
        "❓ 30. 집합 `set1 = {3, 2, 1, 3}`의 출력 결과를 예측하세요."
      ]
    },
    {
      "cell_type": "code",
      "execution_count": null,
      "metadata": {
        "id": "RLKSOE3zZwDw"
      },
      "outputs": [],
      "source": []
    },
    {
      "cell_type": "markdown",
      "metadata": {
        "id": "7DQcBUt_L8XN"
      },
      "source": [
        "---\n",
        "### Null과 키워드\n",
        "\n",
        "❓ 31. `x = None`일 때, `x`의 자료형을 출력하세요."
      ]
    },
    {
      "cell_type": "code",
      "execution_count": null,
      "metadata": {
        "id": "3S6KkfCCOcCL"
      },
      "outputs": [],
      "source": []
    },
    {
      "cell_type": "markdown",
      "metadata": {
        "id": "b-5lAzuqOetq"
      },
      "source": [
        "❓ 32. `None`과 빈 문자열 `''`이 같은지 비교해 출력하세요."
      ]
    },
    {
      "cell_type": "code",
      "execution_count": null,
      "metadata": {
        "id": "cp_73tVcOiCl"
      },
      "outputs": [],
      "source": []
    },
    {
      "cell_type": "markdown",
      "metadata": {
        "id": "TTR5bpowOkaF"
      },
      "source": [
        "❓ 33. `NaN`을 생성하고 변수 `a`에 할당한 뒤, 변수 `a`의 자료형을 출력하세요."
      ]
    },
    {
      "cell_type": "code",
      "execution_count": null,
      "metadata": {
        "id": "Ltd-tMRVOnnM"
      },
      "outputs": [],
      "source": []
    },
    {
      "cell_type": "markdown",
      "metadata": {
        "id": "n5T_X1MzOmi5"
      },
      "source": [
        "❓ 34. 변수 `a`에 `NaN`을 할당한 후, `a + 2`의 결과와 `a`와 `NaN`의 동등 비교(`==`) 결과를 출력하세요."
      ]
    },
    {
      "cell_type": "code",
      "execution_count": null,
      "metadata": {
        "id": "KLWD7LY6OtMv"
      },
      "outputs": [],
      "source": []
    },
    {
      "cell_type": "markdown",
      "metadata": {
        "id": "acVS-Gq1Ov0z"
      },
      "source": [
        "❓ 35. `a = (1, 2)`, `b = (1, 2)`일 때, `a is b`의 결과를 출력하세요."
      ]
    },
    {
      "cell_type": "code",
      "execution_count": null,
      "metadata": {
        "id": "IDrDe9ZrO0-7"
      },
      "outputs": [],
      "source": []
    },
    {
      "cell_type": "markdown",
      "metadata": {
        "id": "09EW0AglPput"
      },
      "source": [
        "❓ 36. 1이 리스트 `[1, 2, 3]`에 속하는지 확인하는 코드를 작성하세요."
      ]
    },
    {
      "cell_type": "code",
      "execution_count": null,
      "metadata": {
        "id": "V2YoIm0HPsXN"
      },
      "outputs": [],
      "source": []
    },
    {
      "cell_type": "markdown",
      "metadata": {
        "id": "M8-CrSxxPuZB"
      },
      "source": [
        "---\n",
        "\n",
        "### 제어문\n",
        "\n",
        "❓ 37. `x = 5`일 때, `x`가 양수이면 `'양수입니다.'`를 출력하는 `if` 문을 작성하세요."
      ]
    },
    {
      "cell_type": "code",
      "execution_count": null,
      "metadata": {
        "id": "FCXm6XDGPy7x"
      },
      "outputs": [],
      "source": []
    },
    {
      "cell_type": "markdown",
      "metadata": {
        "id": "I46hyxHtP844"
      },
      "source": [
        "❓ 38. 문자열 `s = 'python'`이 5글자 이상이면 `'긴 문자열'`을 출력하세요."
      ]
    },
    {
      "cell_type": "code",
      "execution_count": null,
      "metadata": {
        "id": "vVP-DWj1Q8VD"
      },
      "outputs": [],
      "source": []
    },
    {
      "cell_type": "markdown",
      "metadata": {
        "id": "7qwzOElQQ-M1"
      },
      "source": [
        "❓ 39. 변수 `num = 8`이 짝수이면 `'짝수입니다.'`, 홀수이면 `'홀수입니다.'`를 출력하는 `if-else` 문을 작성하세요."
      ]
    },
    {
      "cell_type": "code",
      "execution_count": null,
      "metadata": {
        "id": "lpLeB7IDRW76"
      },
      "outputs": [],
      "source": []
    },
    {
      "cell_type": "markdown",
      "metadata": {
        "id": "G-MWQyRCRZNe"
      },
      "source": [
        "❓ 40. `for`문의 반복 대상으로 사용될 수 있는 리스트, 튜플, 문자열, `range` 객체 등을 통칭하는 용어는?\n"
      ]
    },
    {
      "cell_type": "markdown",
      "metadata": {
        "id": "miEe_XR3Rk5B"
      },
      "source": [
        "❓ 41. `for`문을 사용하여 0~5까지 정수를 하나씩 출력하세요."
      ]
    },
    {
      "cell_type": "code",
      "execution_count": null,
      "metadata": {
        "id": "0t2_PpGURugU"
      },
      "outputs": [],
      "source": []
    },
    {
      "cell_type": "markdown",
      "metadata": {
        "id": "A_IZ_OrSRwbW"
      },
      "source": [
        "❓ 42. 리스트 `[0, 2, 3, 5]`의 각 원소를 제곱하여 하나씩 출력하세요."
      ]
    },
    {
      "cell_type": "code",
      "execution_count": null,
      "metadata": {
        "id": "pxq9AiLQRzFs"
      },
      "outputs": [],
      "source": []
    },
    {
      "cell_type": "markdown",
      "metadata": {
        "id": "762fAlZjR1Ss"
      },
      "source": [
        "❓ 43. 문자열 `'김판다'`를 `for`문을 사용하여 거꾸로 한 글자씩 출력하세요."
      ]
    },
    {
      "cell_type": "code",
      "execution_count": null,
      "metadata": {
        "id": "N4vO7h38R4_i"
      },
      "outputs": [],
      "source": []
    },
    {
      "cell_type": "markdown",
      "metadata": {
        "id": "pq01MwKuR6_s"
      },
      "source": [
        "❓ 44. `for` 문을 사용해 리스트 `[1, 2, 3, 4]`의 모든 원소의 합을 구하고 출력하세요."
      ]
    },
    {
      "cell_type": "code",
      "execution_count": null,
      "metadata": {
        "id": "rNYVdITaR_DK"
      },
      "outputs": [],
      "source": []
    },
    {
      "cell_type": "markdown",
      "metadata": {
        "id": "53OXdkCPSERf"
      },
      "source": [
        "---\n",
        "### 함수\n",
        "\n",
        "❓ 45. 함수의 입력값을 받기 위해 정의된 변수를 무엇이라고 하나요?\n",
        "\n",
        "\n",
        "❓ 46. 함수를 호출할 때, 실제 매개변수에 전달되는 값을 무엇이라고 하나요?\n",
        "\n",
        "\n",
        "❓ 47. 매개변수에 별도의 인수가 전달되지 않을 때 자동으로 전달되는 인수를 무엇이라고 하나요?\n",
        "\n"
      ]
    },
    {
      "cell_type": "markdown",
      "metadata": {
        "id": "n71ZT68BSYDF"
      },
      "source": [
        "❓ 48. 두 개의 숫자를 입력받아 합을 반환하는 함수 `add`를 키워드 `def`로 정의하고 3, 4의 합을 출력하세요."
      ]
    },
    {
      "cell_type": "code",
      "execution_count": null,
      "metadata": {
        "id": "lSsAmmhtSbgn"
      },
      "outputs": [],
      "source": []
    },
    {
      "cell_type": "markdown",
      "metadata": {
        "id": "G-ugzo1FSfzK"
      },
      "source": [
        "❓ 49. 두 개의 숫자를 입력받아 합을 반환하는 함수를 `lambda` 함수로 정의하세요."
      ]
    },
    {
      "cell_type": "code",
      "execution_count": null,
      "metadata": {
        "id": "9qLhoIaASdhQ"
      },
      "outputs": [],
      "source": []
    },
    {
      "cell_type": "markdown",
      "metadata": {
        "id": "Seui7rifSkwl"
      },
      "source": [
        "❓ 50. 아래 함수가 주어졌을 때, `func(1, 3)`의 출력 결과를 확인하세요.\n",
        "\n",
        "```python\n",
        "def func(x=0, y=1, z=2):\n",
        "    return x + y + z\n",
        "```\n"
      ]
    },
    {
      "cell_type": "code",
      "execution_count": null,
      "metadata": {
        "id": "ZMaWbQmFSqcY"
      },
      "outputs": [],
      "source": []
    },
    {
      "cell_type": "markdown",
      "metadata": {
        "id": "I21sB8ZMSskT"
      },
      "source": [
        "❓ 51. 50번 문제에서 각 매개변수에 전달된 인수는 무엇인가요?\n",
        "\n",
        "\n"
      ]
    },
    {
      "cell_type": "markdown",
      "metadata": {
        "id": "DXuq8ytKSw01"
      },
      "source": [
        "---\n",
        "### 클래스와 모듈\n",
        "\n",
        "❓ 52. 사용자 정의 자료형을 생성하는 틀 역할을 하는 것은 무엇인가요?\n",
        "\n",
        "\n",
        "❓ 53. 클래스로부터 만들어진 실체이며, 클래스의 속성과 메서드를 사용할 수 있는 것은 무엇인가요?\n",
        "\n",
        "\n",
        "❓ 54. 클래스 내부에서 선언되는 변수로, 객체에 데이터를 저장하는 것은 무엇인가요?\n",
        "\n",
        "\n",
        "❓ 55. 클래스 내부에서 정의된 함수로, 객체의 동작을 정의하는 것은 무엇인가요?\n",
        "\n"
      ]
    },
    {
      "cell_type": "markdown",
      "metadata": {
        "id": "wz01xa1PS9Jh"
      },
      "source": [
        "❓ 56. **random** 모듈을 불러오는 코드를 작성하세요."
      ]
    },
    {
      "cell_type": "code",
      "execution_count": null,
      "metadata": {
        "id": "UXbVomukTAdW"
      },
      "outputs": [],
      "source": []
    },
    {
      "cell_type": "markdown",
      "metadata": {
        "id": "1RvA-vi6TCKd"
      },
      "source": [
        "❓ 57. **pandas** 모듈을 `pd`라는 이름으로 불러오는 코드를 작성하세요."
      ]
    },
    {
      "cell_type": "code",
      "execution_count": null,
      "metadata": {
        "id": "cOpLZLBdTF2K"
      },
      "outputs": [],
      "source": []
    },
    {
      "cell_type": "markdown",
      "metadata": {
        "id": "sxOBo63RVys0"
      },
      "source": [
        "## 연습 문제 (해답)\n"
      ]
    },
    {
      "cell_type": "markdown",
      "metadata": {
        "id": "OxJU4Kf2Vys1"
      },
      "source": [
        "### 변수\n",
        "\n",
        "❓ 1. 변수를 사용하는 이유를 설명하세요.\n",
        "\n",
        "```\n",
        "✔\n",
        "변수는 데이터를 저장하고 재사용할 수 있도록 하며, 코드의 가독성을 높이고 유지보수를 쉽게 해줍니다.\n",
        "```"
      ]
    },
    {
      "cell_type": "markdown",
      "metadata": {
        "id": "hlwCjYswVys1"
      },
      "source": [
        "❓ 2. `x`에 5를 할당한 후, `x`의 값을 출력하세요."
      ]
    },
    {
      "cell_type": "code",
      "execution_count": 1,
      "metadata": {
        "colab": {
          "base_uri": "https://localhost:8080/"
        },
        "id": "D8d9cxrQTFYh",
        "outputId": "cb562f89-57b1-470d-a77b-58379c470304"
      },
      "outputs": [
        {
          "name": "stdout",
          "output_type": "stream",
          "text": [
            "5\n"
          ]
        }
      ],
      "source": [
        "x = 5\n",
        "print(x)  # 5"
      ]
    },
    {
      "cell_type": "markdown",
      "metadata": {
        "id": "9Uh77s2pVys2"
      },
      "source": [
        "❓ 3. `x`와 `y`에 각각 5와 10을 저장한 후, 두 변수의 합을 출력하세요."
      ]
    },
    {
      "cell_type": "code",
      "execution_count": 2,
      "metadata": {
        "colab": {
          "base_uri": "https://localhost:8080/"
        },
        "id": "qe-WcQfCVys2",
        "outputId": "0bafb814-1429-4f75-a242-248ab84ea265"
      },
      "outputs": [
        {
          "name": "stdout",
          "output_type": "stream",
          "text": [
            "15\n"
          ]
        }
      ],
      "source": [
        "x = 5\n",
        "y = 10\n",
        "print(x + y)  # 15"
      ]
    },
    {
      "cell_type": "markdown",
      "metadata": {
        "id": "_Du7Wr11Vys2"
      },
      "source": [
        "❓ 4. 다음 변수 선언 중 올바르지 않은 것을 찾으세요.\n",
        "\n",
        "```python\n",
        "1var = 10\n",
        "my-var = 20\n",
        "_name2 = 'Python'\n",
        "True = 5\n",
        "```\n",
        "\n",
        "✔️\n",
        "```python\n",
        "1var = 10  # 숫자로 시작 불가\n",
        "my-var = 20  # 하이픈(-) 사용 불가\n",
        "_name2 = 'Python'\n",
        "True = 5  # 키워드 사용 불가\n",
        "```"
      ]
    },
    {
      "cell_type": "markdown",
      "metadata": {
        "id": "bQUxqGV-Vys2"
      },
      "source": [
        "❓ 5. 변수 `x`에 10을 할당한 후, 값을 5 증가시켜 업데이트한 뒤 출력하세요."
      ]
    },
    {
      "cell_type": "code",
      "execution_count": 3,
      "metadata": {
        "colab": {
          "base_uri": "https://localhost:8080/"
        },
        "id": "hdUhXMpeVys3",
        "outputId": "1b2ca1ce-997f-4722-e186-e83a28b9e8d7"
      },
      "outputs": [
        {
          "name": "stdout",
          "output_type": "stream",
          "text": [
            "15\n"
          ]
        }
      ],
      "source": [
        "x = 10\n",
        "x = x + 5\n",
        "print(x)  # 15"
      ]
    },
    {
      "cell_type": "markdown",
      "metadata": {
        "id": "yWJBm2FYVys3"
      },
      "source": [
        "---\n",
        "\n",
        "### 스칼라 자료형\n",
        "\n",
        "❓ 6. 정수 10의 자료형을 확인하는 코드를 작성하세요."
      ]
    },
    {
      "cell_type": "code",
      "execution_count": 4,
      "metadata": {
        "colab": {
          "base_uri": "https://localhost:8080/"
        },
        "id": "NxyRHNZSVys3",
        "outputId": "d4dd937d-ee3a-43b3-da86-ded308920840"
      },
      "outputs": [
        {
          "data": {
            "text/plain": [
              "int"
            ]
          },
          "execution_count": 4,
          "metadata": {},
          "output_type": "execute_result"
        }
      ],
      "source": [
        "type(10)    # 출력: int"
      ]
    },
    {
      "cell_type": "markdown",
      "metadata": {
        "id": "iGYcpwWhVys3"
      },
      "source": [
        "❓ 7. `x = 3.99`일 때, `x`를 정수형으로 변환하는 코드를 작성하고 결과를 예측하세요."
      ]
    },
    {
      "cell_type": "code",
      "execution_count": 5,
      "metadata": {
        "colab": {
          "base_uri": "https://localhost:8080/"
        },
        "id": "mZpf6sQeVys3",
        "outputId": "da105a1b-ee4b-42ea-a1b3-d2792330ddbc"
      },
      "outputs": [
        {
          "data": {
            "text/plain": [
              "3"
            ]
          },
          "execution_count": 5,
          "metadata": {},
          "output_type": "execute_result"
        }
      ],
      "source": [
        "x = 3.99\n",
        "int(x)  # 출력: 3 (소수점 이하 버림)"
      ]
    },
    {
      "cell_type": "markdown",
      "metadata": {
        "id": "kRYolminVys3"
      },
      "source": [
        "❓ 8. `7 // 2`와 `7 / 2`를 출력하고, 차이를 설명하세요."
      ]
    },
    {
      "cell_type": "code",
      "execution_count": 6,
      "metadata": {
        "colab": {
          "base_uri": "https://localhost:8080/"
        },
        "id": "saewIB4xVys3",
        "outputId": "b63391d3-1790-48bf-8454-25eb7e194d69"
      },
      "outputs": [
        {
          "name": "stdout",
          "output_type": "stream",
          "text": [
            "3\n",
            "3.5\n"
          ]
        }
      ],
      "source": [
        "print(7 // 2)  # 3 (몫)\n",
        "print(7 / 2)   # 3.5 (일반 나눗셈)"
      ]
    },
    {
      "cell_type": "markdown",
      "metadata": {
        "id": "tQ1CW0YYVys4"
      },
      "source": [
        "❓ 9. 변수 `s = '3.14'`를 실수형으로 변환하는 코드를 작성하세요."
      ]
    },
    {
      "cell_type": "code",
      "execution_count": 7,
      "metadata": {
        "colab": {
          "base_uri": "https://localhost:8080/"
        },
        "id": "taLS-oHKVys4",
        "outputId": "6cfd19f0-2b70-4a3d-ab5a-7bd20702b1be"
      },
      "outputs": [
        {
          "data": {
            "text/plain": [
              "3.14"
            ]
          },
          "execution_count": 7,
          "metadata": {},
          "output_type": "execute_result"
        }
      ],
      "source": [
        "s = '3.14'\n",
        "float(s)  # 출력: 3.14"
      ]
    },
    {
      "cell_type": "markdown",
      "metadata": {
        "id": "YLbbdLWyVys4"
      },
      "source": [
        "❓ 10. `float(10)`의 출력 결과를 예측하세요."
      ]
    },
    {
      "cell_type": "code",
      "execution_count": 8,
      "metadata": {
        "colab": {
          "base_uri": "https://localhost:8080/"
        },
        "id": "J0H29-KoVys4",
        "outputId": "8a9b92bd-ae3f-4a9e-bde3-7815d366fb9d"
      },
      "outputs": [
        {
          "name": "stdout",
          "output_type": "stream",
          "text": [
            "10.0\n"
          ]
        }
      ],
      "source": [
        "print(float(10))  # 10.0"
      ]
    },
    {
      "cell_type": "markdown",
      "metadata": {
        "id": "4TP0ycBwVys4"
      },
      "source": [
        "❓11. 변수 `s = 'Hello'`일 때, `s[0]`과 `s[-1]`의 값을 출력하세요."
      ]
    },
    {
      "cell_type": "code",
      "execution_count": 9,
      "metadata": {
        "colab": {
          "base_uri": "https://localhost:8080/"
        },
        "id": "TGuP50oXVys4",
        "outputId": "457462da-dfb2-49b5-f585-5ab353772a45"
      },
      "outputs": [
        {
          "name": "stdout",
          "output_type": "stream",
          "text": [
            "H\n",
            "o\n"
          ]
        }
      ],
      "source": [
        "s = 'Hello'\n",
        "print(s[0])   # 'H'\n",
        "print(s[-1])  # 'o'"
      ]
    },
    {
      "cell_type": "markdown",
      "metadata": {
        "id": "FoDKk1ztVys4"
      },
      "source": [
        "❓ 12. `a = '김판다'`일 때, `a`의 길이를 출력하세요."
      ]
    },
    {
      "cell_type": "code",
      "execution_count": 10,
      "metadata": {
        "colab": {
          "base_uri": "https://localhost:8080/"
        },
        "id": "IDTEjwteVys4",
        "outputId": "310b14d6-1d5b-4357-df51-7f6bead61379"
      },
      "outputs": [
        {
          "name": "stdout",
          "output_type": "stream",
          "text": [
            "3\n"
          ]
        }
      ],
      "source": [
        "a = '김판다'\n",
        "print(len(a))  # 3"
      ]
    },
    {
      "cell_type": "markdown",
      "metadata": {
        "id": "zf-0f4sfVys4"
      },
      "source": [
        "❓ 13. `'123' + '456'`의 출력 결과를 예측하세요."
      ]
    },
    {
      "cell_type": "code",
      "execution_count": 11,
      "metadata": {
        "colab": {
          "base_uri": "https://localhost:8080/"
        },
        "id": "MtDZGuyzVys5",
        "outputId": "bde77164-0155-4759-a0ad-7c1d543ac4c3"
      },
      "outputs": [
        {
          "name": "stdout",
          "output_type": "stream",
          "text": [
            "123456\n"
          ]
        }
      ],
      "source": [
        "print('123' + '456')  # '123456'"
      ]
    },
    {
      "cell_type": "markdown",
      "metadata": {
        "id": "CSjsGqIbVys5"
      },
      "source": [
        "❓ 14. 문자열 `s = 'Hello, World!'`에서 마지막 6글자만 출력하세요."
      ]
    },
    {
      "cell_type": "code",
      "execution_count": 12,
      "metadata": {
        "colab": {
          "base_uri": "https://localhost:8080/"
        },
        "id": "V23E044dVys5",
        "outputId": "6caeda01-13e5-4284-f5c8-d6b6250121c0"
      },
      "outputs": [
        {
          "name": "stdout",
          "output_type": "stream",
          "text": [
            "World!\n"
          ]
        }
      ],
      "source": [
        "s = 'Hello, World!'\n",
        "print(s[-6:])  # 'World!'"
      ]
    },
    {
      "cell_type": "markdown",
      "metadata": {
        "id": "nBNk9piwVys5"
      },
      "source": [
        "❓ 15. 문자열 s = '12345'에서 홀수 번째 문자만 출력하세요."
      ]
    },
    {
      "cell_type": "code",
      "execution_count": 13,
      "metadata": {
        "colab": {
          "base_uri": "https://localhost:8080/"
        },
        "id": "fVTqPSnCVys5",
        "outputId": "84a13d97-2309-4edf-ce82-4fa8e454be0a"
      },
      "outputs": [
        {
          "name": "stdout",
          "output_type": "stream",
          "text": [
            "135\n"
          ]
        }
      ],
      "source": [
        "s = '12345'\n",
        "print(s[::2])  # '135'"
      ]
    },
    {
      "cell_type": "markdown",
      "metadata": {
        "id": "w-S1JXLiVys5"
      },
      "source": [
        "❓ 16. `5 * 2`의 결과가 `10.0`과 같은지 비교하여 불(`bool`) 자료형을 출력하세요."
      ]
    },
    {
      "cell_type": "code",
      "execution_count": 14,
      "metadata": {
        "colab": {
          "base_uri": "https://localhost:8080/"
        },
        "id": "yPkgpXU_Vys5",
        "outputId": "1e35edf8-fc4d-4d3b-b3c7-9e06672dd7f9"
      },
      "outputs": [
        {
          "name": "stdout",
          "output_type": "stream",
          "text": [
            "True\n"
          ]
        }
      ],
      "source": [
        "print(5 * 2 == 10.0)  # True: 같다"
      ]
    },
    {
      "cell_type": "markdown",
      "metadata": {
        "id": "n4n95xudVys5"
      },
      "source": [
        "❓ 17. 문자열 `'hello'`와 `'Hello'`를 다르다(`!=`) 연산으로 비교하여 불(`bool`) 자료형을 출력하세요."
      ]
    },
    {
      "cell_type": "code",
      "execution_count": 15,
      "metadata": {
        "colab": {
          "base_uri": "https://localhost:8080/"
        },
        "id": "si0-0qEpVys6",
        "outputId": "0e2056dc-0bb7-4cce-cf62-eef3b33a8506"
      },
      "outputs": [
        {
          "name": "stdout",
          "output_type": "stream",
          "text": [
            "True\n"
          ]
        }
      ],
      "source": [
        "print('hello' != 'Hello')  # True: 다르다"
      ]
    },
    {
      "cell_type": "markdown",
      "metadata": {
        "id": "umf9ExJKVys6"
      },
      "source": [
        "❓ 18. 변수 `a`에 `True`, `b`에 `False`를 할당한 후, `a + b`의 결과를 출력하세요."
      ]
    },
    {
      "cell_type": "code",
      "execution_count": 16,
      "metadata": {
        "colab": {
          "base_uri": "https://localhost:8080/"
        },
        "id": "G8JONfA_Vys6",
        "outputId": "76798053-7822-444d-cb18-1966a58d4013"
      },
      "outputs": [
        {
          "name": "stdout",
          "output_type": "stream",
          "text": [
            "1\n"
          ]
        }
      ],
      "source": [
        "a = True\n",
        "b = False\n",
        "print(a + b)  # 1 (True는 1, False는 0으로 간주)"
      ]
    },
    {
      "cell_type": "markdown",
      "metadata": {
        "id": "VmwCNEv2Vys6"
      },
      "source": [
        "---\n",
        "\n",
        "### 컬렉션 자료형\n",
        "\n",
        "❓ 19. 리스트 `[1, 2, 3]`과 `[4, 5, 6]`을 합쳐 하나의 리스트를 출력하세요.\n",
        "\n",
        "\n",
        "\n",
        "\n",
        "\n"
      ]
    },
    {
      "cell_type": "code",
      "execution_count": 17,
      "metadata": {
        "colab": {
          "base_uri": "https://localhost:8080/"
        },
        "id": "MdRtSO-eVys6",
        "outputId": "e5f57666-812a-4f70-a8c9-124df66b1ff7"
      },
      "outputs": [
        {
          "name": "stdout",
          "output_type": "stream",
          "text": [
            "[1, 2, 3, 4, 5, 6]\n"
          ]
        }
      ],
      "source": [
        "print([1, 2, 3] + [4, 5, 6])  # [1, 2, 3, 4, 5, 6]"
      ]
    },
    {
      "cell_type": "markdown",
      "metadata": {
        "id": "-dz4YIL-Vys6"
      },
      "source": [
        "❓20. 리스트 `numbers = [10, 20, 30, 40]`에서 첫 번째 원소를 출력하세요."
      ]
    },
    {
      "cell_type": "code",
      "execution_count": 18,
      "metadata": {
        "colab": {
          "base_uri": "https://localhost:8080/"
        },
        "id": "anFQpbEXVys7",
        "outputId": "cf194528-1ea8-4c04-b758-ae04f6c3bd79"
      },
      "outputs": [
        {
          "name": "stdout",
          "output_type": "stream",
          "text": [
            "10\n"
          ]
        }
      ],
      "source": [
        "numbers = [10, 20, 30, 40]\n",
        "print(numbers[0])  # 10"
      ]
    },
    {
      "cell_type": "markdown",
      "metadata": {
        "id": "xq1leUBVVys7"
      },
      "source": [
        "❓ 21. 리스트 `numbers = [10, 20, 30, 40]`의 길이를 출력하세요."
      ]
    },
    {
      "cell_type": "code",
      "execution_count": 19,
      "metadata": {
        "colab": {
          "base_uri": "https://localhost:8080/"
        },
        "id": "o_ABDQuyVys7",
        "outputId": "0b93b5a2-00fd-43fd-f9a4-6fdc711c6a4c"
      },
      "outputs": [
        {
          "name": "stdout",
          "output_type": "stream",
          "text": [
            "4\n"
          ]
        }
      ],
      "source": [
        "numbers = [10, 20, 30, 40]\n",
        "print(len(numbers))  # 4"
      ]
    },
    {
      "cell_type": "markdown",
      "metadata": {
        "id": "7kMMVL6HVys7"
      },
      "source": [
        "❓ 22. 리스트 `numbers =[10, 20, 30, 40, 50]`에서 앞의 3개 원소만 출력하세요."
      ]
    },
    {
      "cell_type": "code",
      "execution_count": 20,
      "metadata": {
        "colab": {
          "base_uri": "https://localhost:8080/"
        },
        "id": "FL9JZLgFVys7",
        "outputId": "2acc39b1-03b7-439e-a59e-52213613caab"
      },
      "outputs": [
        {
          "name": "stdout",
          "output_type": "stream",
          "text": [
            "[10, 20, 30]\n"
          ]
        }
      ],
      "source": [
        "numbers = [10, 20, 30, 40, 50]\n",
        "print(numbers[:3])  # [10, 20, 30]"
      ]
    },
    {
      "cell_type": "markdown",
      "metadata": {
        "id": "5Fr63jaFVys7"
      },
      "source": [
        "❓ 23. 튜플 `t = (10, 20, 30, 40, 50)`에서 세 번째 원소를 출력하세요."
      ]
    },
    {
      "cell_type": "code",
      "execution_count": 21,
      "metadata": {
        "colab": {
          "base_uri": "https://localhost:8080/"
        },
        "id": "7EkqkXGtVys7",
        "outputId": "995133e6-8bca-4eca-e981-d2aa489840e5"
      },
      "outputs": [
        {
          "name": "stdout",
          "output_type": "stream",
          "text": [
            "30\n"
          ]
        }
      ],
      "source": [
        "t = (10, 20, 30, 40, 50)\n",
        "print(t[2])  # 30"
      ]
    },
    {
      "cell_type": "markdown",
      "metadata": {
        "id": "QSWnxl3jVys7"
      },
      "source": [
        "❓ 24. 두 개의 튜플 `(1, 2, 3)`과 `(4, 5, 6)`을 하나의 튜플로 합치고 출력하세요."
      ]
    },
    {
      "cell_type": "code",
      "execution_count": 22,
      "metadata": {
        "colab": {
          "base_uri": "https://localhost:8080/"
        },
        "id": "r5yoL5tiVys7",
        "outputId": "fe9ee07e-18dc-4497-ebd0-f408ac327008"
      },
      "outputs": [
        {
          "name": "stdout",
          "output_type": "stream",
          "text": [
            "(1, 2, 3, 4, 5, 6)\n"
          ]
        }
      ],
      "source": [
        "print((1, 2, 3) + (4, 5, 6))  # (1, 2, 3, 4, 5, 6)"
      ]
    },
    {
      "cell_type": "markdown",
      "metadata": {
        "id": "XRpq9hZ4Vys7"
      },
      "source": [
        "❓ 25. 튜플 언패킹을 사용하여 변수 `x`에 5, 변수 `y`에 10을 할당하세요."
      ]
    },
    {
      "cell_type": "code",
      "execution_count": 23,
      "metadata": {
        "id": "7ud64mgMVys7"
      },
      "outputs": [],
      "source": [
        "x, y = 5, 10"
      ]
    },
    {
      "cell_type": "markdown",
      "metadata": {
        "id": "krI4xNtkVys7"
      },
      "source": [
        "❓ 26. 딕셔너리 `d = {'A': 10, 'B': 20, 'C': 30}`에서 키 `'B'`의 밸류를 출력하세요."
      ]
    },
    {
      "cell_type": "code",
      "execution_count": 24,
      "metadata": {
        "colab": {
          "base_uri": "https://localhost:8080/"
        },
        "id": "KjDQJuFYVys7",
        "outputId": "6f26e8e9-4502-464a-95d8-ecbdfb403760"
      },
      "outputs": [
        {
          "name": "stdout",
          "output_type": "stream",
          "text": [
            "20\n"
          ]
        }
      ],
      "source": [
        "d = {'A': 10, 'B': 20, 'C': 30}\n",
        "print(d['B'])  # 20"
      ]
    },
    {
      "cell_type": "markdown",
      "metadata": {
        "id": "r-ccmSv2Vys8"
      },
      "source": [
        "❓ 27. 빈 딕셔너리 `d = {}`에 키 `'X'`와 밸류 100을 추가하는 코드를 작성하세요."
      ]
    },
    {
      "cell_type": "code",
      "execution_count": 25,
      "metadata": {
        "colab": {
          "base_uri": "https://localhost:8080/"
        },
        "id": "wkiDQj0OVys8",
        "outputId": "7ef15d2a-4dd2-4cd7-c65c-f48bc4723d99"
      },
      "outputs": [
        {
          "name": "stdout",
          "output_type": "stream",
          "text": [
            "{'X': 100}\n"
          ]
        }
      ],
      "source": [
        "d = {}\n",
        "d['X'] = 100\n",
        "print(d)  # {'X': 100}"
      ]
    },
    {
      "cell_type": "markdown",
      "metadata": {
        "id": "jXiIV4FwVys8"
      },
      "source": [
        "❓28. 딕셔너리 `d = {'apple': 3, 'banana': 5}`에서 키 `'banana'`의 밸류를 10으로 변경하는 코드를 작성하세요."
      ]
    },
    {
      "cell_type": "code",
      "execution_count": 26,
      "metadata": {
        "colab": {
          "base_uri": "https://localhost:8080/"
        },
        "id": "2F_MgPkGVys8",
        "outputId": "c899aacd-ea31-4564-c014-c5c70f92edfb"
      },
      "outputs": [
        {
          "name": "stdout",
          "output_type": "stream",
          "text": [
            "{'apple': 3, 'banana': 10}\n"
          ]
        }
      ],
      "source": [
        "d = {'apple': 3, 'banana': 5}\n",
        "d['banana'] = 10\n",
        "print(d)  # {'apple': 3, 'banana': 10}"
      ]
    },
    {
      "cell_type": "markdown",
      "metadata": {
        "id": "yAcZSR2bVys8"
      },
      "source": [
        "❓ 29. 딕셔너리 `d = {'a': 1, 'b': 2, 'a': 3}`의 출력 결과를 예측하세요."
      ]
    },
    {
      "cell_type": "code",
      "execution_count": 27,
      "metadata": {
        "colab": {
          "base_uri": "https://localhost:8080/"
        },
        "id": "EQkwZxXEVys8",
        "outputId": "a6d96fcf-bb37-4362-f0bd-ed3555142c7a"
      },
      "outputs": [
        {
          "name": "stdout",
          "output_type": "stream",
          "text": [
            "{'a': 3, 'b': 2}\n"
          ]
        }
      ],
      "source": [
        "d = {'a': 1, 'b': 2, 'a': 3}\n",
        "print(d)  # {'a': 3, 'b': 2}"
      ]
    },
    {
      "cell_type": "markdown",
      "metadata": {
        "id": "0Ryt-SlkVys8"
      },
      "source": [
        "❓ 30. 집합 `set1 = {3, 2, 1, 3}`의 출력 결과를 예측하세요."
      ]
    },
    {
      "cell_type": "code",
      "execution_count": 28,
      "metadata": {
        "colab": {
          "base_uri": "https://localhost:8080/"
        },
        "id": "7OtXCGlRVys8",
        "outputId": "7d03591a-4a4a-42e3-9817-c347d9301550"
      },
      "outputs": [
        {
          "name": "stdout",
          "output_type": "stream",
          "text": [
            "{1, 2, 3}\n"
          ]
        }
      ],
      "source": [
        "set1 = {3, 2, 1, 3}\n",
        "print(set1)  # {1, 2, 3}"
      ]
    },
    {
      "cell_type": "markdown",
      "metadata": {
        "id": "N9lhnsljVys8"
      },
      "source": [
        "---\n",
        "### Null과 키워드\n",
        "\n",
        "❓ 31. `x = None`일 때, `x`의 자료형을 출력하세요."
      ]
    },
    {
      "cell_type": "code",
      "execution_count": 29,
      "metadata": {
        "colab": {
          "base_uri": "https://localhost:8080/"
        },
        "id": "gxPUWHlwVys8",
        "outputId": "81d923c5-8660-4526-f9de-93b17e312cf3"
      },
      "outputs": [
        {
          "name": "stdout",
          "output_type": "stream",
          "text": [
            "<class 'NoneType'>\n"
          ]
        }
      ],
      "source": [
        "x = None\n",
        "print(type(x))  # <class 'NoneType'>"
      ]
    },
    {
      "cell_type": "markdown",
      "metadata": {
        "id": "vWeDDCCPVys8"
      },
      "source": [
        "❓ 32. `None`과 빈 문자열 `''`이 같은지 비교해 출력하세요."
      ]
    },
    {
      "cell_type": "code",
      "execution_count": 30,
      "metadata": {
        "colab": {
          "base_uri": "https://localhost:8080/"
        },
        "id": "sXMlfHz7Vys8",
        "outputId": "0c2104b9-9f73-4eb0-9233-84c382a79dfe"
      },
      "outputs": [
        {
          "name": "stdout",
          "output_type": "stream",
          "text": [
            "False\n"
          ]
        }
      ],
      "source": [
        "print(None == '')  # False"
      ]
    },
    {
      "cell_type": "markdown",
      "metadata": {
        "id": "JBVQq4xWVys8"
      },
      "source": [
        "❓ 33. `NaN`을 생성하고 변수 `a`에 할당한 뒤, 변수 `a`의 자료형을 출력하세요."
      ]
    },
    {
      "cell_type": "code",
      "execution_count": 31,
      "metadata": {
        "colab": {
          "base_uri": "https://localhost:8080/"
        },
        "id": "EPf0VsAqVys9",
        "outputId": "e3dca15a-493d-4d56-fe13-9b091686701e"
      },
      "outputs": [
        {
          "name": "stdout",
          "output_type": "stream",
          "text": [
            "<class 'float'>\n"
          ]
        }
      ],
      "source": [
        "a = float('nan')\n",
        "print(type(a))  # <class 'float'>"
      ]
    },
    {
      "cell_type": "markdown",
      "metadata": {
        "id": "Lrd1JGwyVys9"
      },
      "source": [
        "❓ 34. 변수 `a`에 `NaN`을 할당한 후, `a + 2`의 결과와 `a`와 `NaN`의 동등 비교(`==`) 결과를 출력하세요."
      ]
    },
    {
      "cell_type": "code",
      "execution_count": 32,
      "metadata": {
        "colab": {
          "base_uri": "https://localhost:8080/"
        },
        "id": "_KvcWnuhVys9",
        "outputId": "6dbe85c3-3311-4a93-85e2-26d7f680ea95"
      },
      "outputs": [
        {
          "name": "stdout",
          "output_type": "stream",
          "text": [
            "nan\n",
            "False\n"
          ]
        }
      ],
      "source": [
        "a = float('nan')\n",
        "print(a + 2)  # nan\n",
        "print(a == float('nan'))  # False"
      ]
    },
    {
      "cell_type": "markdown",
      "metadata": {
        "id": "xpw_3puPVys9"
      },
      "source": [
        "❓ 35. `a = (1, 2)`, `b = (1, 2)`일 때, `a is b`의 결과를 출력하세요."
      ]
    },
    {
      "cell_type": "code",
      "execution_count": 33,
      "metadata": {
        "colab": {
          "base_uri": "https://localhost:8080/"
        },
        "id": "fcG9DVe9Vys9",
        "outputId": "2f9c371d-b352-47be-c918-6cbe649a2a4f"
      },
      "outputs": [
        {
          "name": "stdout",
          "output_type": "stream",
          "text": [
            "False\n"
          ]
        }
      ],
      "source": [
        "a = (1, 2)\n",
        "b = (1, 2)\n",
        "print(a is b)  # False"
      ]
    },
    {
      "cell_type": "markdown",
      "metadata": {
        "id": "-4t8nTGpVys9"
      },
      "source": [
        "❓ 36. 1이 리스트 `[1, 2, 3]`에 속하는지 확인하는 코드를 작성하세요."
      ]
    },
    {
      "cell_type": "code",
      "execution_count": 34,
      "metadata": {
        "colab": {
          "base_uri": "https://localhost:8080/"
        },
        "id": "iauyqTjWVys9",
        "outputId": "109cfc16-c63f-4667-ca7b-de24ad8a0ce8"
      },
      "outputs": [
        {
          "data": {
            "text/plain": [
              "True"
            ]
          },
          "execution_count": 34,
          "metadata": {},
          "output_type": "execute_result"
        }
      ],
      "source": [
        "1 in [1, 2, 3]  # 출력: True"
      ]
    },
    {
      "cell_type": "markdown",
      "metadata": {
        "id": "b3tGXDruVys9"
      },
      "source": [
        "---\n",
        "\n",
        "### 제어문\n",
        "\n",
        "❓ 37. `x = 5`일 때, `x`가 양수이면 `'양수입니다.'`를 출력하는 `if` 문을 작성하세요."
      ]
    },
    {
      "cell_type": "code",
      "execution_count": 35,
      "metadata": {
        "colab": {
          "base_uri": "https://localhost:8080/"
        },
        "id": "Pj-HlB2wVys9",
        "outputId": "228fc6e2-ee94-47f1-f1d9-db52ec9d8bd1"
      },
      "outputs": [
        {
          "name": "stdout",
          "output_type": "stream",
          "text": [
            "양수입니다.\n"
          ]
        }
      ],
      "source": [
        "x = 5\n",
        "if x > 0:\n",
        "    print('양수입니다.')  # '양수입니다.'"
      ]
    },
    {
      "cell_type": "markdown",
      "metadata": {
        "id": "oKklm6KJVys9"
      },
      "source": [
        "❓ 38. 문자열 `s = 'python'`이 5글자 이상이면 `'긴 문자열'`을 출력하세요."
      ]
    },
    {
      "cell_type": "code",
      "execution_count": 36,
      "metadata": {
        "colab": {
          "base_uri": "https://localhost:8080/"
        },
        "id": "y5n6-aWKVys9",
        "outputId": "5be179ec-2862-411f-a578-5a18aed7d228"
      },
      "outputs": [
        {
          "name": "stdout",
          "output_type": "stream",
          "text": [
            "긴 문자열\n"
          ]
        }
      ],
      "source": [
        "s = 'python'\n",
        "if len(s) >= 5:\n",
        "    print('긴 문자열')  # '긴 문자열'"
      ]
    },
    {
      "cell_type": "markdown",
      "metadata": {
        "id": "W6J3BD5lVys9"
      },
      "source": [
        "❓ 39. 변수 `num = 8`이 짝수이면 `'짝수입니다.'`, 홀수이면 `'홀수입니다.'`를 출력하는 `if-else` 문을 작성하세요."
      ]
    },
    {
      "cell_type": "code",
      "execution_count": 37,
      "metadata": {
        "colab": {
          "base_uri": "https://localhost:8080/"
        },
        "id": "noulMVRiVys9",
        "outputId": "b9f81c86-acfa-4b5a-a1c2-5f411aa87794"
      },
      "outputs": [
        {
          "name": "stdout",
          "output_type": "stream",
          "text": [
            "짝수입니다.\n"
          ]
        }
      ],
      "source": [
        "num = 8\n",
        "if num % 2 == 0:\n",
        "    print('짝수입니다.')  # '짝수입니다.'\n",
        "else:\n",
        "    print('홀수입니다.')"
      ]
    },
    {
      "cell_type": "markdown",
      "metadata": {
        "id": "zj6Op9cTVys-"
      },
      "source": [
        "❓ 40. `for`문의 반복 대상으로 사용될 수 있는 리스트, 튜플, 문자열, `range` 객체 등을 통칭하는 용어는?\n",
        "\n",
        "```\n",
        "✔\n",
        "이터러블(iterable)\n",
        "```"
      ]
    },
    {
      "cell_type": "markdown",
      "metadata": {
        "id": "FqIokyGcVys-"
      },
      "source": [
        "❓ 41. `for`문을 사용하여 0~5까지 정수를 하나씩 출력하세요."
      ]
    },
    {
      "cell_type": "code",
      "execution_count": 38,
      "metadata": {
        "colab": {
          "base_uri": "https://localhost:8080/"
        },
        "id": "1g-FuotjVys-",
        "outputId": "e5e42809-fb33-4f40-f002-62a71d92bfdb"
      },
      "outputs": [
        {
          "name": "stdout",
          "output_type": "stream",
          "text": [
            "0\n",
            "1\n",
            "2\n",
            "3\n",
            "4\n",
            "5\n"
          ]
        }
      ],
      "source": [
        "for i in range(6):\n",
        "    print(i)"
      ]
    },
    {
      "cell_type": "markdown",
      "metadata": {
        "id": "3TacGaR2Vys-"
      },
      "source": [
        "❓ 42. 리스트 `[0, 2, 3, 5]`의 각 원소를 제곱하여 하나씩 출력하세요."
      ]
    },
    {
      "cell_type": "code",
      "execution_count": 39,
      "metadata": {
        "colab": {
          "base_uri": "https://localhost:8080/"
        },
        "id": "a0fjjpBxVys-",
        "outputId": "edbbc1e5-a6c0-4722-e054-a0f255a37db7"
      },
      "outputs": [
        {
          "name": "stdout",
          "output_type": "stream",
          "text": [
            "0\n",
            "4\n",
            "9\n",
            "25\n"
          ]
        }
      ],
      "source": [
        "for num in [0, 2, 3, 5]:\n",
        "    print(num ** 2)"
      ]
    },
    {
      "cell_type": "markdown",
      "metadata": {
        "id": "OHKL1T_DVys-"
      },
      "source": [
        "❓ 43. 문자열 `'김판다'`를 `for`문을 사용하여 거꾸로 한 글자씩 출력하세요."
      ]
    },
    {
      "cell_type": "code",
      "execution_count": 40,
      "metadata": {
        "colab": {
          "base_uri": "https://localhost:8080/"
        },
        "id": "91L_GdC1Vys-",
        "outputId": "46aa53e6-8b12-46de-e860-a1d248ab4187"
      },
      "outputs": [
        {
          "name": "stdout",
          "output_type": "stream",
          "text": [
            "다\n",
            "판\n",
            "김\n"
          ]
        }
      ],
      "source": [
        "word = '김판다'\n",
        "for i in word[::-1]:\n",
        "    print(i)"
      ]
    },
    {
      "cell_type": "markdown",
      "metadata": {
        "id": "CGR1lm3WVys-"
      },
      "source": [
        "❓ 44. `for` 문을 사용해 리스트 `[1, 2, 3, 4]`의 모든 원소의 합을 구하고 출력하세요."
      ]
    },
    {
      "cell_type": "code",
      "execution_count": 41,
      "metadata": {
        "colab": {
          "base_uri": "https://localhost:8080/"
        },
        "id": "e3L2VOsvVys-",
        "outputId": "51e1960a-9f91-4adc-ac73-d7aafc412347"
      },
      "outputs": [
        {
          "name": "stdout",
          "output_type": "stream",
          "text": [
            "10\n"
          ]
        }
      ],
      "source": [
        "total = 0\n",
        "for i in [1, 2, 3, 4]:\n",
        "    total += i  # total = total + i 와 동일\n",
        "print(total)  # 출력: 10"
      ]
    },
    {
      "cell_type": "markdown",
      "metadata": {
        "id": "ZXpOOABAVys-"
      },
      "source": [
        "---\n",
        "### 함수\n",
        "\n",
        "❓ 45. 함수의 입력값을 받기 위해 정의된 변수를 무엇이라고 하나요?\n",
        "\n",
        "```\n",
        "✔\n",
        "매개변수\n",
        "```\n",
        "\n",
        "❓ 46. 함수를 호출할 때, 실제 매개변수에 전달되는 값을 무엇이라고 하나요?\n",
        "\n",
        "```\n",
        "✔\n",
        "인수\n",
        "```\n",
        "\n",
        "❓ 47. 매개변수에 별도의 인수가 전달되지 않을 때 자동으로 전달되는 인수를 무엇이라고 하나요?\n",
        "\n",
        "```\n",
        "✔\n",
        "기본값(default)\n",
        "```"
      ]
    },
    {
      "cell_type": "markdown",
      "metadata": {
        "id": "R8qYzRMPVys-"
      },
      "source": [
        "❓ 48. 두 개의 숫자를 입력받아 합을 반환하는 함수 `add`를 키워드 `def`로 정의하고 3, 4의 합을 출력하세요."
      ]
    },
    {
      "cell_type": "code",
      "execution_count": 42,
      "metadata": {
        "colab": {
          "base_uri": "https://localhost:8080/"
        },
        "id": "BzKyQiWqVys-",
        "outputId": "295733d5-c9b4-4ce1-8b45-64853444ed8d"
      },
      "outputs": [
        {
          "name": "stdout",
          "output_type": "stream",
          "text": [
            "7\n"
          ]
        }
      ],
      "source": [
        "def add(a, b):\n",
        "    return a + b\n",
        "\n",
        "print(add(3, 4))  # 7"
      ]
    },
    {
      "cell_type": "markdown",
      "metadata": {
        "id": "q5xPP8hSVys-"
      },
      "source": [
        "❓ 49. 두 개의 숫자를 입력받아 합을 반환하는 함수를 `lambda` 함수로 정의하세요."
      ]
    },
    {
      "cell_type": "code",
      "execution_count": 43,
      "metadata": {
        "colab": {
          "base_uri": "https://localhost:8080/"
        },
        "id": "n1X6zFCkVys-",
        "outputId": "63d2b60a-7c20-49c5-bc1c-ee254c87886a"
      },
      "outputs": [
        {
          "data": {
            "text/plain": [
              "<function __main__.<lambda>(a, b)>"
            ]
          },
          "execution_count": 43,
          "metadata": {},
          "output_type": "execute_result"
        }
      ],
      "source": [
        "lambda a, b: a + b"
      ]
    },
    {
      "cell_type": "markdown",
      "metadata": {
        "id": "vyOFi6SrVys-"
      },
      "source": [
        "❓ 50. 아래 함수가 주어졌을 때, `func(1, 3)`의 출력 결과를 확인하세요.\n",
        "\n",
        "```python\n",
        "def func(x=0, y=1, z=2):\n",
        "    return x + y + z\n",
        "```\n"
      ]
    },
    {
      "cell_type": "code",
      "execution_count": 44,
      "metadata": {
        "colab": {
          "base_uri": "https://localhost:8080/"
        },
        "id": "-sT-R0I4Vys-",
        "outputId": "abebe30d-91d5-4792-ceec-160c78f4a3d3"
      },
      "outputs": [
        {
          "name": "stdout",
          "output_type": "stream",
          "text": [
            "6\n"
          ]
        }
      ],
      "source": [
        "def func(x=0, y=1, z=2):\n",
        "    return x + y + z\n",
        "\n",
        "print(func(1, 3))  # 6"
      ]
    },
    {
      "cell_type": "markdown",
      "metadata": {
        "id": "C5CjEo4fVys_"
      },
      "source": [
        "❓ 51. 50번 문제에서 각 매개변수에 전달된 인수는 무엇인가요?\n",
        "\n",
        "```\n",
        "✔\n",
        "x=1, y=3, z=2\n",
        "```\n"
      ]
    },
    {
      "cell_type": "markdown",
      "metadata": {
        "id": "iLBtRqjjVys_"
      },
      "source": [
        "---\n",
        "### 클래스와 모듈\n",
        "\n",
        "❓ 52. 사용자 정의 자료형을 생성하는 틀 역할을 하는 것은 무엇인가요?\n",
        "\n",
        "```\n",
        "✔\n",
        "클래스\n",
        "```\n",
        "\n",
        "❓ 53. 클래스로부터 만들어진 실체이며, 클래스의 속성과 메서드를 사용할 수 있는 것은 무엇인가요?\n",
        "\n",
        "```\n",
        "✔\n",
        "객체\n",
        "```\n",
        "\n",
        "❓ 54. 클래스 내부에서 선언되는 변수로, 객체에 데이터를 저장하는 것은 무엇인가요?\n",
        "\n",
        "```\n",
        "✔\n",
        "속성\n",
        "```\n",
        "\n",
        "❓ 55. 클래스 내부에서 정의된 함수로, 객체의 동작을 정의하는 것은 무엇인가요?\n",
        "\n",
        "```\n",
        "✔\n",
        "메서드\n",
        "```"
      ]
    },
    {
      "cell_type": "markdown",
      "metadata": {
        "id": "QyKUn_TXVys_"
      },
      "source": [
        "❓ 56. **random** 모듈을 불러오는 코드를 작성하세요."
      ]
    },
    {
      "cell_type": "code",
      "execution_count": 45,
      "metadata": {
        "id": "NsVUsvsmVys_"
      },
      "outputs": [],
      "source": [
        "import random"
      ]
    },
    {
      "cell_type": "markdown",
      "metadata": {
        "id": "Y1xtmJ3RVys_"
      },
      "source": [
        "❓ 57. **pandas** 모듈을 `pd`라는 이름으로 불러오는 코드를 작성하세요."
      ]
    },
    {
      "cell_type": "code",
      "execution_count": 46,
      "metadata": {
        "id": "Sb4s5Y5mVytA"
      },
      "outputs": [],
      "source": [
        "import pandas as pd"
      ]
    }
  ],
  "metadata": {
    "colab": {
      "provenance": []
    },
    "kernelspec": {
      "display_name": "Python 3",
      "name": "python3"
    },
    "language_info": {
      "codemirror_mode": {
        "name": "ipython",
        "version": 3
      },
      "file_extension": ".py",
      "mimetype": "text/x-python",
      "name": "python",
      "nbconvert_exporter": "python",
      "pygments_lexer": "ipython3",
      "version": "3.9.6"
    }
  },
  "nbformat": 4,
  "nbformat_minor": 0
}
