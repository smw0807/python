{
  "cells": [
    {
      "cell_type": "markdown",
      "metadata": {
        "id": "NSQvI-qUMjkH"
      },
      "source": [
        "### 2.7. 튜플\n",
        "\n",
        "튜플(tuple)은 파이썬에서 리스트와 유사하게 여러 데이터를 하나의 구조로 저장하는 컬렉션 자료형입니다. **튜플과 리스트의 가장 큰 차이점은 불변성(immutable)으로, 이는 한 번 생성된 튜플의 내용을 변경할 수 없음을 의미합니다.** 이러한 불변성은 변하지 않아야 하는 데이터를 안전하게 저장하는 데 유용합니다.\n",
        "\n",
        "튜플은 소괄호 안에 데이터를 콤마(`,`)로 구분하여 생성합니다.\n",
        "\n",
        "```python\n",
        "a = (1, 2, 3)  # 소괄호를 사용한 튜플 생성\n",
        "```\n",
        "\n",
        "또한, 소괄호 없이도 튜플을 생성할 수 있습니다.\n",
        "\n",
        "```python\n",
        "b = 1, 2, 3    # 소괄호 없이 생성한 튜플\n",
        "```\n"
      ]
    },
    {
      "cell_type": "code",
      "execution_count": 3,
      "metadata": {
        "id": "Fc3JufKwMjkH"
      },
      "outputs": [
        {
          "name": "stdout",
          "output_type": "stream",
          "text": [
            "(1, 2)\n",
            "(1, 2)\n",
            "<class 'tuple'>\n"
          ]
        }
      ],
      "source": [
        "# 코드 2-38. 튜플 생성\n",
        "\n",
        "# 정수 1, 2로 구성된 튜플 생성하고 변수 a에 할당 후 출력\n",
        "a = (1, 2)\n",
        "print(a);\n",
        "\n",
        "\n",
        "# 정수 1, 2로 구성된 튜플을 소괄호 없이 생성하고 변수 b에 할당 후 출력\n",
        "b = 1, 2\n",
        "print(b)\n",
        "\n",
        "\n",
        "# 변수 b의 자료형 확인\n",
        "print(type(b))"
      ]
    },
    {
      "cell_type": "markdown",
      "metadata": {
        "id": "eSD1uR_WMjkI"
      },
      "source": [
        "#### 2.7.1. 튜플 언패킹\n",
        "\n",
        "> 튜플 언패킹\n",
        "\n",
        "**튜플 언패킹**(tuple unpacking)은 **튜플에 담긴 값을 여러 변수에 동시에 할당하는 방법**으로, 코드를 간결하고 직관적으로 작성할 수 있습니다. 단, 변수의 개수와 튜플의 원소 개수가 반드시 일치해야 합니다.\n",
        "\n",
        "```python\n",
        "a, b = 1, 2\n",
        "print(a)  # 출력: 1\n",
        "print(b)  # 출력: 2\n",
        "```"
      ]
    },
    {
      "cell_type": "code",
      "execution_count": 5,
      "metadata": {
        "id": "cSVRf307MjkI"
      },
      "outputs": [
        {
          "name": "stdout",
          "output_type": "stream",
          "text": [
            "1\n",
            "2\n",
            "[3, 2, 1]\n"
          ]
        }
      ],
      "source": [
        "# 코드 2-39. 튜플 언패킹\n",
        "\n",
        "# 변수 c와 d에 각각 1과 2를 할당한 후 출력\n",
        "c, d = 1, 2\n",
        "print(c)\n",
        "print(d)\n",
        "\n",
        "\n",
        "e = [1, 2, 3]\n",
        "# 리스트 e의 첫 번째 원소와 마지막 원소를 맞교환해 변경하고 e를 출력\n",
        "e[0], e[-1] = e[-1], e[0]\n",
        "print(e)\n"
      ]
    },
    {
      "cell_type": "markdown",
      "metadata": {
        "id": "6LfdwTOX-t9R"
      },
      "source": [
        "#### 2.7.2. 튜플로 변환하기\n",
        "\n",
        "> 튜플로 변환하기\n",
        "\n",
        "`tuple` 함수는 문자열이나 배열을 튜플로 변환할 수 있습니다."
      ]
    },
    {
      "cell_type": "code",
      "execution_count": 6,
      "metadata": {
        "id": "4L4m9LDM-uXu"
      },
      "outputs": [
        {
          "name": "stdout",
          "output_type": "stream",
          "text": [
            "(1, 2, 3)\n"
          ]
        }
      ],
      "source": [
        "# 코드 2-40. 튜플로 변환하기\n",
        "\n",
        "# 리스트 [1, 2, 3]을 튜플로 변환하기\n",
        "print(tuple([1, 2, 3]))\n"
      ]
    },
    {
      "cell_type": "markdown",
      "metadata": {
        "id": "uvJVBw3oMjkJ"
      },
      "source": [
        "#### 2.7.3. 튜플의 연산\n",
        "튜플도 리스트와 유사한 연산을 지원합니다.\n",
        "\n",
        "> 튜플 연결\n",
        "\n",
        "파이썬에서는 덧셈 연산자(`+`)를 사용하여 튜플을 간단히 연결할 수 있습니다.\n",
        "예를 들어, 튜플 (1, 2)와 (3, 4)를 `+` 연산으로 연결하면 (1, 2, 3, 4)가 생성됩니다.\n",
        "\n",
        "> 튜플 반복\n",
        "\n",
        "곱셈 연산자(`*`)를 사용하여 튜플을 정수와 곱하면, 해당 튜플을 반복하는 결과를 얻을 수 있습니다.\n",
        "예를 들어, 튜플 (1, 2)에 3을 곱하면 (1, 2, 1, 2, 1, 2)가 생성됩니다."
      ]
    },
    {
      "cell_type": "code",
      "execution_count": 9,
      "metadata": {
        "id": "mhYevx7YMjkJ"
      },
      "outputs": [
        {
          "name": "stdout",
          "output_type": "stream",
          "text": [
            "(1, 2, 3, 4)\n",
            "(1, 2, 1, 2, 1, 2)\n"
          ]
        }
      ],
      "source": [
        "# 코드 2-41. 튜플의 연산\n",
        "\n",
        "f = (1, 2)\n",
        "# 튜플 f와 튜플 (3, 4)를 연결하고 출력\n",
        "print(f + (3, 4))\n",
        "\n",
        "# 튜플 f를 3번 반복한 튜플 출력\n",
        "print(f * 3)"
      ]
    },
    {
      "cell_type": "markdown",
      "metadata": {
        "id": "3CqSYoSUMjkK"
      },
      "source": [
        "#### 2.7.4. 튜플의 인덱싱과 슬라이싱\n",
        "\n",
        "> 인덱싱과 슬라이싱\n",
        "\n",
        "리스트와 마찬가지로 튜플도 인덱싱과 슬라이싱을 사용하여 특정 원소를 추출할 수 있습니다."
      ]
    },
    {
      "cell_type": "code",
      "execution_count": null,
      "metadata": {
        "id": "Y_GhESqbMjkK"
      },
      "outputs": [
        {
          "name": "stdout",
          "output_type": "stream",
          "text": [
            "c\n",
            "c\n"
          ]
        }
      ],
      "source": [
        "# 코드 2-42. 튜플의 인덱싱과 슬라이싱\n",
        "g = ('a', 'b', 'c', 'd', 'e')\n",
        "\n",
        "# 튜플 g의 세 번째 원소 반환\n",
        "print(g[2])\n",
        "\n",
        "# 튜플 g의 마지막 세 원소 반환\n",
        "print(g[-3])\n",
        "\n",
        "# 튜플 g를 역순으로 변환\n",
        "print(g[::-1])"
      ]
    },
    {
      "cell_type": "markdown",
      "metadata": {
        "id": "u-JK11kIMjkK"
      },
      "source": [
        "주의할 점은, 튜플은 **불변성(immutable)**을 가진 자료형이기 때문에 인덱싱이나 슬라이싱을 통해 값을 변경할 수 없다는 것입니다. 값을 할당하려고 시도하면 에러가 발생합니다.\n",
        "\n",
        "```python\n",
        "a = (1, 2)\n",
        "a[0] = 9  # 에러\n",
        "```"
      ]
    },
    {
      "cell_type": "markdown",
      "metadata": {
        "id": "rVvyT-SqMjkK"
      },
      "source": [
        "#### 2.7.5. 불변성\n",
        "\n",
        "\n",
        "> 불변성\n",
        "\n",
        "**불변성(immutability)**은 데이터가 한 번 생성된 이후로 변경되지 않는 성질을 의미합니다. 파이썬에서 문자열, 정수, 튜플 등이 불변성을 가지는 대표적인 자료형입니다. 반면, 리스트, 딕셔너리, 집합은 가변성을 가진 자료형입니다.\n",
        "\n",
        "불변성의 주요 장점은 데이터의 신뢰성과 안정성을 보장하는 데 있습니다. 데이터가 변경되지 않으므로, 예기치 못한 수정으로 인한 오류를 방지할 수 있습니다.\n",
        "\n",
        "> 불변성과 가변성의 차이\n",
        "\n",
        "**불변성을 가진 객체는 값을 변경하려고 할 때 기존 객체를 수정하는 대신, 변경된 내용을 반영한 새로운 객체를 생성합니다.** 반면, 가변성을 가진 객체는 상황에 따라 기존 객체를 직접 수정하거나, 필요에 따라 새로운 객체를 생성하여 변경 사항을 반영할 수 있습니다.\n",
        "\n",
        "> 불변성과 가변성 정리\n",
        "\n",
        "파이썬 입문자가 기억해야 할 불변성과 가변성의 차이를 정리하면 다음과 같습니다:\n",
        "\n",
        "- **인덱싱으로 값 변경 가능 여부**\n",
        "\n",
        " - **가변성**을 가진 객체만 **인덱싱을 통해 값을 변경할 수 있습니다.**\n",
        "\n",
        " - **불변성**을 가진 객체는 인덱싱뿐 아니라 생성된 이후 값을 변경할 수 없습니다.\n",
        "\n",
        "- **함수를 적용할 때 결과 차이**\n",
        "\n",
        " - **불변성**을 가진 객체는 함수를 적용할 때 **새로운 객체를 생성합니다.**\n",
        "\n",
        " - **가변성**을 가진 객체는 함수가 **기존 객체를 직접 변경하거나, 새로운 객체를 생성할 수 있습니다.**\n",
        "\n",
        "- **딕셔너리와 집합에서의 활용**\n",
        "\n",
        " - **불변성**을 가진 객체만 **딕셔너리의 키(key)나 집합(set)의 원소로 사용할 수 있습니다.**\n",
        "\n",
        " - **가변성**을 가진 객체는 변경 가능성이 있으므로 딕셔너리의 키나 집합의 원소로 사용할 수 없습니다.\n"
      ]
    },
    {
      "cell_type": "markdown",
      "metadata": {
        "id": "a2rNRw8fMvfX"
      },
      "source": [
        "**😀 파이썬의 엑셀, 판다스 라이브러리 출판 안내**\n",
        "\n",
        "**서울대** 이성주 교수님과 **카이스트** 차유진 교수님이 추천한 데이터 분석 책 **『파이썬의 엑셀, 판다스 라이브러리』**가 출판되었습니다. 이 책은 입문자를 위해 데이터 분석 과정에서 가장 중요한 판다스 라이브러리를 쉽게 풀어쓴 **입문서**이며, 동시에 여러분의 데이터 처리 역량을 강화하는 데 큰 도움이 되는 **기본서**입니다.\n",
        "\n",
        "<img src=https://i.postimg.cc/MKg8TW75/01.jpg, width=600>\n",
        "\n",
        "🎈 [파이썬의 엑셀, 판다스 라이브러리 목차 확인](https://kimpanda.tistory.com/274)\n",
        "\n",
        "🎈 [교보문고 구매 페이지](https://product.kyobobook.co.kr/detail/S000214350781)"
      ]
    }
  ],
  "metadata": {
    "colab": {
      "provenance": []
    },
    "kernelspec": {
      "display_name": "Python 3",
      "name": "python3"
    },
    "language_info": {
      "codemirror_mode": {
        "name": "ipython",
        "version": 3
      },
      "file_extension": ".py",
      "mimetype": "text/x-python",
      "name": "python",
      "nbconvert_exporter": "python",
      "pygments_lexer": "ipython3",
      "version": "3.9.6"
    }
  },
  "nbformat": 4,
  "nbformat_minor": 0
}
